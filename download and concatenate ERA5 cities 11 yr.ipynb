{
 "cells": [
  {
   "cell_type": "code",
   "execution_count": 1,
   "id": "ec049365",
   "metadata": {},
   "outputs": [
    {
     "name": "stdout",
     "output_type": "stream",
     "text": [
      "Requirement already satisfied: wxee in ./miniforge3/lib/python3.10/site-packages (0.3.3)\n",
      "Requirement already satisfied: plotly>=5.2.2 in ./miniforge3/lib/python3.10/site-packages (from wxee) (5.13.1)\n",
      "Requirement already satisfied: xarray in ./miniforge3/lib/python3.10/site-packages (from wxee) (2022.11.0)\n",
      "Requirement already satisfied: tqdm in ./miniforge3/lib/python3.10/site-packages (from wxee) (4.64.1)\n",
      "Requirement already satisfied: rasterio in ./miniforge3/lib/python3.10/site-packages (from wxee) (1.3.6)\n",
      "Requirement already satisfied: joblib in ./miniforge3/lib/python3.10/site-packages (from wxee) (1.2.0)\n",
      "Requirement already satisfied: netcdf4 in ./miniforge3/lib/python3.10/site-packages (from wxee) (1.6.2)\n",
      "Requirement already satisfied: earthengine-api in ./miniforge3/lib/python3.10/site-packages (from wxee) (0.1.342)\n",
      "Requirement already satisfied: requests in ./miniforge3/lib/python3.10/site-packages (from wxee) (2.28.1)\n",
      "Requirement already satisfied: tenacity>=6.2.0 in ./miniforge3/lib/python3.10/site-packages (from plotly>=5.2.2->wxee) (8.2.1)\n",
      "Requirement already satisfied: google-auth-httplib2>=0.0.3 in ./miniforge3/lib/python3.10/site-packages (from earthengine-api->wxee) (0.1.0)\n",
      "Requirement already satisfied: google-cloud-storage in ./miniforge3/lib/python3.10/site-packages (from earthengine-api->wxee) (2.7.0)\n",
      "Requirement already satisfied: httplib2<1dev,>=0.9.2 in ./miniforge3/lib/python3.10/site-packages (from earthengine-api->wxee) (0.21.0)\n",
      "Requirement already satisfied: google-auth>=1.4.1 in ./miniforge3/lib/python3.10/site-packages (from earthengine-api->wxee) (2.14.1)\n",
      "Requirement already satisfied: google-api-python-client>=1.12.1 in ./miniforge3/lib/python3.10/site-packages (from earthengine-api->wxee) (2.79.0)\n",
      "Requirement already satisfied: numpy>=1.9 in ./miniforge3/lib/python3.10/site-packages (from netcdf4->wxee) (1.23.2)\n",
      "Requirement already satisfied: cftime in ./miniforge3/lib/python3.10/site-packages (from netcdf4->wxee) (1.6.2)\n",
      "Requirement already satisfied: cligj>=0.5 in ./miniforge3/lib/python3.10/site-packages (from rasterio->wxee) (0.7.2)\n",
      "Requirement already satisfied: setuptools in ./miniforge3/lib/python3.10/site-packages (from rasterio->wxee) (65.5.1)\n",
      "Requirement already satisfied: snuggs>=1.4.1 in ./miniforge3/lib/python3.10/site-packages (from rasterio->wxee) (1.4.7)\n",
      "Requirement already satisfied: attrs in ./miniforge3/lib/python3.10/site-packages (from rasterio->wxee) (22.1.0)\n",
      "Requirement already satisfied: affine in ./miniforge3/lib/python3.10/site-packages (from rasterio->wxee) (2.4.0)\n",
      "Requirement already satisfied: click-plugins in ./miniforge3/lib/python3.10/site-packages (from rasterio->wxee) (1.1.1)\n",
      "Requirement already satisfied: click>=4.0 in ./miniforge3/lib/python3.10/site-packages (from rasterio->wxee) (8.1.3)\n",
      "Requirement already satisfied: certifi in ./miniforge3/lib/python3.10/site-packages (from rasterio->wxee) (2022.12.7)\n",
      "Requirement already satisfied: idna<4,>=2.5 in ./miniforge3/lib/python3.10/site-packages (from requests->wxee) (3.4)\n",
      "Requirement already satisfied: charset-normalizer<3,>=2 in ./miniforge3/lib/python3.10/site-packages (from requests->wxee) (2.1.1)\n",
      "Requirement already satisfied: urllib3<1.27,>=1.21.1 in ./miniforge3/lib/python3.10/site-packages (from requests->wxee) (1.26.11)\n",
      "Requirement already satisfied: pandas>=1.3 in ./miniforge3/lib/python3.10/site-packages (from xarray->wxee) (1.5.1)\n",
      "Requirement already satisfied: packaging>=21.0 in ./miniforge3/lib/python3.10/site-packages (from xarray->wxee) (21.3)\n",
      "Requirement already satisfied: google-api-core!=2.0.*,!=2.1.*,!=2.2.*,!=2.3.0,<3.0.0dev,>=1.31.5 in ./miniforge3/lib/python3.10/site-packages (from google-api-python-client>=1.12.1->earthengine-api->wxee) (2.11.0)\n",
      "Requirement already satisfied: uritemplate<5,>=3.0.1 in ./miniforge3/lib/python3.10/site-packages (from google-api-python-client>=1.12.1->earthengine-api->wxee) (4.1.1)\n",
      "Requirement already satisfied: cachetools<6.0,>=2.0.0 in ./miniforge3/lib/python3.10/site-packages (from google-auth>=1.4.1->earthengine-api->wxee) (5.2.0)\n",
      "Requirement already satisfied: six>=1.9.0 in ./miniforge3/lib/python3.10/site-packages (from google-auth>=1.4.1->earthengine-api->wxee) (1.16.0)\n",
      "Requirement already satisfied: pyasn1-modules>=0.2.1 in ./miniforge3/lib/python3.10/site-packages (from google-auth>=1.4.1->earthengine-api->wxee) (0.2.8)\n",
      "Requirement already satisfied: rsa<5,>=3.1.4 in ./miniforge3/lib/python3.10/site-packages (from google-auth>=1.4.1->earthengine-api->wxee) (4.9)\n",
      "Requirement already satisfied: pyparsing!=3.0.0,!=3.0.1,!=3.0.2,!=3.0.3,<4,>=2.4.2 in ./miniforge3/lib/python3.10/site-packages (from httplib2<1dev,>=0.9.2->earthengine-api->wxee) (3.0.9)\n",
      "Requirement already satisfied: python-dateutil>=2.8.1 in ./miniforge3/lib/python3.10/site-packages (from pandas>=1.3->xarray->wxee) (2.8.2)\n",
      "Requirement already satisfied: pytz>=2020.1 in ./miniforge3/lib/python3.10/site-packages (from pandas>=1.3->xarray->wxee) (2022.6)\n",
      "Requirement already satisfied: google-resumable-media>=2.3.2 in ./miniforge3/lib/python3.10/site-packages (from google-cloud-storage->earthengine-api->wxee) (2.4.1)\n",
      "Requirement already satisfied: google-cloud-core<3.0dev,>=2.3.0 in ./miniforge3/lib/python3.10/site-packages (from google-cloud-storage->earthengine-api->wxee) (2.3.2)\n",
      "Requirement already satisfied: googleapis-common-protos<2.0dev,>=1.56.2 in ./miniforge3/lib/python3.10/site-packages (from google-api-core!=2.0.*,!=2.1.*,!=2.2.*,!=2.3.0,<3.0.0dev,>=1.31.5->google-api-python-client>=1.12.1->earthengine-api->wxee) (1.58.0)\n",
      "Requirement already satisfied: protobuf!=3.20.0,!=3.20.1,!=4.21.0,!=4.21.1,!=4.21.2,!=4.21.3,!=4.21.4,!=4.21.5,<5.0.0dev,>=3.19.5 in ./miniforge3/lib/python3.10/site-packages (from google-api-core!=2.0.*,!=2.1.*,!=2.2.*,!=2.3.0,<3.0.0dev,>=1.31.5->google-api-python-client>=1.12.1->earthengine-api->wxee) (4.22.0)\n",
      "Requirement already satisfied: google-crc32c<2.0dev,>=1.0 in ./miniforge3/lib/python3.10/site-packages (from google-resumable-media>=2.3.2->google-cloud-storage->earthengine-api->wxee) (1.5.0)\n",
      "Requirement already satisfied: pyasn1<0.5.0,>=0.4.6 in ./miniforge3/lib/python3.10/site-packages (from pyasn1-modules>=0.2.1->google-auth>=1.4.1->earthengine-api->wxee) (0.4.8)\n"
     ]
    }
   ],
   "source": [
    "!pip install wxee"
   ]
  },
  {
   "cell_type": "code",
   "execution_count": 1,
   "id": "56ab2958",
   "metadata": {},
   "outputs": [
    {
     "name": "stderr",
     "output_type": "stream",
     "text": [
      "/Users/sn/miniforge3/lib/python3.10/site-packages/tqdm/auto.py:22: TqdmWarning: IProgress not found. Please update jupyter and ipywidgets. See https://ipywidgets.readthedocs.io/en/stable/user_install.html\n",
      "  from .autonotebook import tqdm as notebook_tqdm\n"
     ]
    },
    {
     "data": {
      "text/html": [
       "<p>To authorize access needed by Earth Engine, open the following\n",
       "        URL in a web browser and follow the instructions:</p>\n",
       "        <p><a href=https://code.earthengine.google.com/client-auth?scopes=https%3A//www.googleapis.com/auth/earthengine%20https%3A//www.googleapis.com/auth/devstorage.full_control&request_id=r6R4Mk_-zlUaAL9PbbG7rdKdhIRTJsqbUW3nj76FgoM&tc=_lHikm8UAwdFhwsK027dIrRnZ556N9KLSlw7leoempI&cc=xUDDAJZ7jmcNON6LR1-E6vCUTfdhCX1RhEcgVTicqZg>https://code.earthengine.google.com/client-auth?scopes=https%3A//www.googleapis.com/auth/earthengine%20https%3A//www.googleapis.com/auth/devstorage.full_control&request_id=r6R4Mk_-zlUaAL9PbbG7rdKdhIRTJsqbUW3nj76FgoM&tc=_lHikm8UAwdFhwsK027dIrRnZ556N9KLSlw7leoempI&cc=xUDDAJZ7jmcNON6LR1-E6vCUTfdhCX1RhEcgVTicqZg</a></p>\n",
       "        <p>The authorization workflow will generate a code, which you should paste in the box below.</p>\n",
       "        "
      ],
      "text/plain": [
       "<IPython.core.display.HTML object>"
      ]
     },
     "metadata": {},
     "output_type": "display_data"
    },
    {
     "name": "stdout",
     "output_type": "stream",
     "text": [
      "Enter verification code: 4/1AVHEtk4a1OhOQbVOyFN9DgD9PhV_Fhsf7oqLsVar9h-_zfko5FdLTGrcO5U\n",
      "\n",
      "Successfully saved authorization token.\n"
     ]
    }
   ],
   "source": [
    "import ee\n",
    "import wxee\n",
    "import time\n",
    "import dask\n",
    "import dask.dataframe as dd\n",
    "ee.Authenticate()"
   ]
  },
  {
   "cell_type": "code",
   "execution_count": 2,
   "id": "6799bdf7",
   "metadata": {},
   "outputs": [],
   "source": [
    "ee.Initialize(opt_url='https://earthengine-highvolume.googleapis.com') \n",
    "wxee.Initialize()\n",
    "era = ee.ImageCollection(\"ECMWF/ERA5_LAND/HOURLY\").select(['surface_thermal_radiation_downwards', 'dewpoint_temperature_2m',\n",
    "       'snow_albedo', 'surface_solar_radiation_downwards', 'surface_runoff',\n",
    "       'soil_temperature_level_2', 'total_precipitation_hourly',\n",
    "       'surface_runoff_hourly', 'total_precipitation',\n",
    "       'lake_total_layer_temperature', 'potential_evaporation_hourly',\n",
    "       'temperature_2m'])\n",
    "\n"
   ]
  },
  {
   "cell_type": "code",
   "execution_count": 3,
   "id": "24367230",
   "metadata": {},
   "outputs": [],
   "source": [
    "#IndianapolisPoint = ee.Geometry.Point([-86.15,39.76])\n",
    "# Dallas Point = ee.Geometry.Point([-96.81, 32.78])\n",
    "# DenverPoint = ee.Geometry.Point([-104.99, 39.74])\n",
    "# HindmanKY = ee.Geometry.Point([-82.98, 37.34])\n",
    "##### Hindman, Kentucky 37.3359° N, 82.9804° W to later test the histoic flooding of july 26-29, 2022 https://www.weather.gov/jkl/July2022Flooding\n",
    "# Gardiner, MO 45.0319° N, 110.7058° W # https://www.usgs.gov/observatories/yvo/news/how-might-devastating-june-2022-floods-and-around-yellowstone-national-park\n",
    "# Portland = ee.Geometry.Point([-122.68, 45.52])\n",
    "#AlbanyNY = ee.Geometry.Point([-73.76, 42.65])\n",
    "#Minneapolis = ee.Geometry.Point([-93.26, 44.99)\n",
    "#Gainnesville = ee.Geometry.Point([-82.32, 29.65])\n",
    "#Las Vegas = ee.Geometry.Point([-115.17, 36.11])\n",
    "#Spokane, WA 47.6588° N, 117.4260° W\n",
    "\n",
    "# crs = \"EPSG:4326\"\n",
    "# # Spatial resolution in CRS units (meters)\n",
    "# scale = 11_132\n",
    "\n",
    "\n",
    "\n"
   ]
  },
  {
   "cell_type": "code",
   "execution_count": 4,
   "id": "43da11fa",
   "metadata": {},
   "outputs": [
    {
     "name": "stderr",
     "output_type": "stream",
     "text": [
      "Requesting data: 100%|████████████████████████| 744/744 [04:11<00:00,  2.96it/s]\n",
      "Downloading data: 100%|███████████████████████| 744/744 [00:46<00:00, 15.97it/s]\n"
     ]
    },
    {
     "name": "stdout",
     "output_type": "stream",
     "text": [
      "month completed:  2018-01-01\n"
     ]
    },
    {
     "name": "stderr",
     "output_type": "stream",
     "text": [
      "Requesting data: 100%|████████████████████████| 672/672 [03:23<00:00,  3.30it/s]\n",
      "Downloading data: 100%|███████████████████████| 672/672 [00:42<00:00, 15.99it/s]\n"
     ]
    },
    {
     "name": "stdout",
     "output_type": "stream",
     "text": [
      "month completed:  2018-02-01\n"
     ]
    },
    {
     "name": "stderr",
     "output_type": "stream",
     "text": [
      "Requesting data: 100%|████████████████████████| 744/744 [04:13<00:00,  2.94it/s]\n",
      "Downloading data: 100%|███████████████████████| 744/744 [00:43<00:00, 17.00it/s]\n"
     ]
    },
    {
     "name": "stdout",
     "output_type": "stream",
     "text": [
      "month completed:  2018-03-01\n"
     ]
    },
    {
     "name": "stderr",
     "output_type": "stream",
     "text": [
      "Requesting data: 100%|████████████████████████| 720/720 [03:51<00:00,  3.11it/s]\n",
      "Downloading data: 100%|███████████████████████| 720/720 [00:42<00:00, 16.86it/s]\n"
     ]
    },
    {
     "name": "stdout",
     "output_type": "stream",
     "text": [
      "month completed:  2018-04-01\n"
     ]
    },
    {
     "name": "stderr",
     "output_type": "stream",
     "text": [
      "Requesting data: 100%|████████████████████████| 744/744 [04:04<00:00,  3.04it/s]\n",
      "Downloading data: 100%|███████████████████████| 744/744 [00:46<00:00, 15.92it/s]\n"
     ]
    },
    {
     "name": "stdout",
     "output_type": "stream",
     "text": [
      "month completed:  2018-05-01\n"
     ]
    },
    {
     "name": "stderr",
     "output_type": "stream",
     "text": [
      "Requesting data: 100%|████████████████████████| 720/720 [03:50<00:00,  3.12it/s]\n",
      "Downloading data: 100%|███████████████████████| 720/720 [00:43<00:00, 16.52it/s]\n"
     ]
    },
    {
     "name": "stdout",
     "output_type": "stream",
     "text": [
      "month completed:  2018-06-01\n"
     ]
    },
    {
     "name": "stderr",
     "output_type": "stream",
     "text": [
      "Requesting data: 100%|████████████████████████| 744/744 [04:01<00:00,  3.08it/s]\n",
      "Downloading data: 100%|███████████████████████| 744/744 [00:44<00:00, 16.79it/s]\n"
     ]
    },
    {
     "name": "stdout",
     "output_type": "stream",
     "text": [
      "month completed:  2018-07-01\n"
     ]
    },
    {
     "name": "stderr",
     "output_type": "stream",
     "text": [
      "Requesting data: 100%|████████████████████████| 744/744 [04:01<00:00,  3.09it/s]\n",
      "Downloading data: 100%|███████████████████████| 744/744 [00:46<00:00, 15.86it/s]\n"
     ]
    },
    {
     "name": "stdout",
     "output_type": "stream",
     "text": [
      "month completed:  2018-08-01\n"
     ]
    },
    {
     "name": "stderr",
     "output_type": "stream",
     "text": [
      "Requesting data: 100%|████████████████████████| 720/720 [03:54<00:00,  3.07it/s]\n",
      "Downloading data: 100%|███████████████████████| 720/720 [00:44<00:00, 16.13it/s]\n"
     ]
    },
    {
     "name": "stdout",
     "output_type": "stream",
     "text": [
      "month completed:  2018-09-01\n"
     ]
    },
    {
     "name": "stderr",
     "output_type": "stream",
     "text": [
      "Requesting data: 100%|████████████████████████| 744/744 [04:14<00:00,  2.92it/s]\n",
      "Downloading data: 100%|███████████████████████| 744/744 [00:46<00:00, 15.86it/s]\n"
     ]
    },
    {
     "name": "stdout",
     "output_type": "stream",
     "text": [
      "month completed:  2018-10-01\n"
     ]
    },
    {
     "name": "stderr",
     "output_type": "stream",
     "text": [
      "Requesting data: 100%|████████████████████████| 720/720 [03:55<00:00,  3.05it/s]\n",
      "Downloading data: 100%|███████████████████████| 720/720 [00:43<00:00, 16.52it/s]\n"
     ]
    },
    {
     "name": "stdout",
     "output_type": "stream",
     "text": [
      "month completed:  2018-11-01\n"
     ]
    },
    {
     "name": "stderr",
     "output_type": "stream",
     "text": [
      "Requesting data: 100%|████████████████████████| 744/744 [04:07<00:00,  3.01it/s]\n",
      "Downloading data: 100%|███████████████████████| 744/744 [00:47<00:00, 15.80it/s]\n"
     ]
    },
    {
     "name": "stdout",
     "output_type": "stream",
     "text": [
      "month completed:  2018-12-01\n"
     ]
    },
    {
     "name": "stderr",
     "output_type": "stream",
     "text": [
      "Requesting data: 100%|████████████████████████| 744/744 [03:50<00:00,  3.23it/s]\n",
      "Downloading data: 100%|███████████████████████| 744/744 [00:43<00:00, 16.94it/s]\n"
     ]
    },
    {
     "name": "stdout",
     "output_type": "stream",
     "text": [
      "month completed:  2019-01-01\n"
     ]
    },
    {
     "name": "stderr",
     "output_type": "stream",
     "text": [
      "Requesting data: 100%|████████████████████████| 672/672 [03:34<00:00,  3.13it/s]\n",
      "Downloading data: 100%|███████████████████████| 672/672 [00:40<00:00, 16.42it/s]\n"
     ]
    },
    {
     "name": "stdout",
     "output_type": "stream",
     "text": [
      "month completed:  2019-02-01\n"
     ]
    },
    {
     "name": "stderr",
     "output_type": "stream",
     "text": [
      "Requesting data: 100%|████████████████████████| 744/744 [04:24<00:00,  2.81it/s]\n",
      "Downloading data: 100%|███████████████████████| 744/744 [00:43<00:00, 16.93it/s]\n"
     ]
    },
    {
     "name": "stdout",
     "output_type": "stream",
     "text": [
      "month completed:  2019-03-01\n"
     ]
    },
    {
     "name": "stderr",
     "output_type": "stream",
     "text": [
      "Requesting data: 100%|████████████████████████| 720/720 [04:04<00:00,  2.95it/s]\n",
      "Downloading data: 100%|███████████████████████| 720/720 [00:43<00:00, 16.38it/s]\n"
     ]
    },
    {
     "name": "stdout",
     "output_type": "stream",
     "text": [
      "month completed:  2019-04-01\n"
     ]
    },
    {
     "name": "stderr",
     "output_type": "stream",
     "text": [
      "Requesting data: 100%|████████████████████████| 744/744 [04:30<00:00,  2.75it/s]\n",
      "Downloading data: 100%|███████████████████████| 744/744 [00:47<00:00, 15.57it/s]\n"
     ]
    },
    {
     "name": "stdout",
     "output_type": "stream",
     "text": [
      "month completed:  2019-05-01\n"
     ]
    },
    {
     "name": "stderr",
     "output_type": "stream",
     "text": [
      "Requesting data: 100%|████████████████████████| 720/720 [04:23<00:00,  2.73it/s]\n",
      "Downloading data: 100%|███████████████████████| 720/720 [00:45<00:00, 15.67it/s]\n"
     ]
    },
    {
     "name": "stdout",
     "output_type": "stream",
     "text": [
      "month completed:  2019-06-01\n"
     ]
    },
    {
     "name": "stderr",
     "output_type": "stream",
     "text": [
      "Requesting data: 100%|████████████████████████| 744/744 [04:53<00:00,  2.53it/s]\n",
      "Downloading data: 100%|███████████████████████| 744/744 [00:58<00:00, 12.80it/s]\n"
     ]
    },
    {
     "name": "stdout",
     "output_type": "stream",
     "text": [
      "month completed:  2019-07-01\n"
     ]
    },
    {
     "name": "stderr",
     "output_type": "stream",
     "text": [
      "Requesting data: 100%|████████████████████████| 744/744 [04:12<00:00,  2.94it/s]\n",
      "Downloading data: 100%|███████████████████████| 744/744 [00:50<00:00, 14.84it/s]\n"
     ]
    },
    {
     "name": "stdout",
     "output_type": "stream",
     "text": [
      "month completed:  2019-08-01\n"
     ]
    },
    {
     "name": "stderr",
     "output_type": "stream",
     "text": [
      "Requesting data: 100%|████████████████████████| 720/720 [03:53<00:00,  3.09it/s]\n",
      "Downloading data: 100%|███████████████████████| 720/720 [00:46<00:00, 15.42it/s]\n"
     ]
    },
    {
     "name": "stdout",
     "output_type": "stream",
     "text": [
      "month completed:  2019-09-01\n"
     ]
    },
    {
     "name": "stderr",
     "output_type": "stream",
     "text": [
      "Requesting data: 100%|████████████████████████| 744/744 [04:15<00:00,  2.91it/s]\n",
      "Downloading data: 100%|███████████████████████| 744/744 [00:45<00:00, 16.45it/s]\n"
     ]
    },
    {
     "name": "stdout",
     "output_type": "stream",
     "text": [
      "month completed:  2019-10-01\n"
     ]
    },
    {
     "name": "stderr",
     "output_type": "stream",
     "text": [
      "Requesting data: 100%|████████████████████████| 720/720 [04:03<00:00,  2.96it/s]\n",
      "Downloading data: 100%|███████████████████████| 720/720 [00:47<00:00, 15.29it/s]\n"
     ]
    },
    {
     "name": "stdout",
     "output_type": "stream",
     "text": [
      "month completed:  2019-11-01\n"
     ]
    },
    {
     "name": "stderr",
     "output_type": "stream",
     "text": [
      "Requesting data: 100%|████████████████████████| 744/744 [04:04<00:00,  3.04it/s]\n",
      "Downloading data: 100%|███████████████████████| 744/744 [00:48<00:00, 15.25it/s]\n"
     ]
    },
    {
     "name": "stdout",
     "output_type": "stream",
     "text": [
      "month completed:  2019-12-01\n"
     ]
    },
    {
     "name": "stderr",
     "output_type": "stream",
     "text": [
      "Requesting data: 100%|████████████████████████| 744/744 [04:03<00:00,  3.06it/s]\n",
      "Downloading data: 100%|███████████████████████| 744/744 [00:43<00:00, 17.20it/s]\n"
     ]
    },
    {
     "name": "stdout",
     "output_type": "stream",
     "text": [
      "month completed:  2020-01-01\n"
     ]
    },
    {
     "name": "stderr",
     "output_type": "stream",
     "text": [
      "Requesting data: 100%|████████████████████████| 696/696 [03:31<00:00,  3.29it/s]\n",
      "Downloading data: 100%|███████████████████████| 696/696 [00:40<00:00, 17.16it/s]\n"
     ]
    },
    {
     "name": "stdout",
     "output_type": "stream",
     "text": [
      "month completed:  2020-02-01\n"
     ]
    },
    {
     "name": "stderr",
     "output_type": "stream",
     "text": [
      "Requesting data: 100%|████████████████████████| 744/744 [04:11<00:00,  2.96it/s]\n",
      "Downloading data: 100%|███████████████████████| 744/744 [00:45<00:00, 16.44it/s]\n"
     ]
    },
    {
     "name": "stdout",
     "output_type": "stream",
     "text": [
      "month completed:  2020-03-01\n"
     ]
    },
    {
     "name": "stderr",
     "output_type": "stream",
     "text": [
      "Requesting data: 100%|████████████████████████| 720/720 [04:11<00:00,  2.86it/s]\n",
      "Downloading data: 100%|███████████████████████| 720/720 [00:41<00:00, 17.32it/s]\n"
     ]
    },
    {
     "name": "stdout",
     "output_type": "stream",
     "text": [
      "month completed:  2020-04-01\n"
     ]
    },
    {
     "name": "stderr",
     "output_type": "stream",
     "text": [
      "Requesting data: 100%|████████████████████████| 744/744 [04:00<00:00,  3.10it/s]\n",
      "Downloading data: 100%|███████████████████████| 744/744 [00:48<00:00, 15.25it/s]\n"
     ]
    },
    {
     "name": "stdout",
     "output_type": "stream",
     "text": [
      "month completed:  2020-05-01\n"
     ]
    },
    {
     "name": "stderr",
     "output_type": "stream",
     "text": [
      "Requesting data: 100%|████████████████████████| 720/720 [04:03<00:00,  2.96it/s]\n",
      "Downloading data: 100%|███████████████████████| 720/720 [00:49<00:00, 14.60it/s]\n"
     ]
    },
    {
     "name": "stdout",
     "output_type": "stream",
     "text": [
      "month completed:  2020-06-01\n"
     ]
    },
    {
     "name": "stderr",
     "output_type": "stream",
     "text": [
      "Requesting data: 100%|████████████████████████| 744/744 [04:13<00:00,  2.94it/s]\n",
      "Downloading data: 100%|███████████████████████| 744/744 [00:48<00:00, 15.49it/s]\n"
     ]
    },
    {
     "name": "stdout",
     "output_type": "stream",
     "text": [
      "month completed:  2020-07-01\n"
     ]
    },
    {
     "name": "stderr",
     "output_type": "stream",
     "text": [
      "Requesting data: 100%|████████████████████████| 744/744 [04:02<00:00,  3.07it/s]\n",
      "Downloading data: 100%|███████████████████████| 744/744 [00:41<00:00, 17.96it/s]\n"
     ]
    },
    {
     "name": "stdout",
     "output_type": "stream",
     "text": [
      "month completed:  2020-08-01\n"
     ]
    },
    {
     "name": "stderr",
     "output_type": "stream",
     "text": [
      "Requesting data: 100%|████████████████████████| 720/720 [03:57<00:00,  3.03it/s]\n",
      "Downloading data: 100%|███████████████████████| 720/720 [00:42<00:00, 16.98it/s]\n"
     ]
    },
    {
     "name": "stdout",
     "output_type": "stream",
     "text": [
      "month completed:  2020-09-01\n"
     ]
    },
    {
     "name": "stderr",
     "output_type": "stream",
     "text": [
      "Requesting data: 100%|████████████████████████| 744/744 [03:56<00:00,  3.14it/s]\n",
      "Downloading data: 100%|███████████████████████| 744/744 [00:44<00:00, 16.84it/s]\n"
     ]
    },
    {
     "name": "stdout",
     "output_type": "stream",
     "text": [
      "month completed:  2020-10-01\n"
     ]
    },
    {
     "name": "stderr",
     "output_type": "stream",
     "text": [
      "Requesting data: 100%|████████████████████████| 720/720 [03:53<00:00,  3.08it/s]\n",
      "Downloading data: 100%|███████████████████████| 720/720 [00:41<00:00, 17.36it/s]\n"
     ]
    },
    {
     "name": "stdout",
     "output_type": "stream",
     "text": [
      "month completed:  2020-11-01\n"
     ]
    },
    {
     "name": "stderr",
     "output_type": "stream",
     "text": [
      "Requesting data: 100%|████████████████████████| 744/744 [04:12<00:00,  2.95it/s]\n",
      "Downloading data: 100%|███████████████████████| 744/744 [00:44<00:00, 16.66it/s]\n"
     ]
    },
    {
     "name": "stdout",
     "output_type": "stream",
     "text": [
      "month completed:  2020-12-01\n"
     ]
    },
    {
     "name": "stderr",
     "output_type": "stream",
     "text": [
      "Requesting data: 100%|████████████████████████| 744/744 [04:19<00:00,  2.87it/s]\n",
      "Downloading data: 100%|███████████████████████| 744/744 [00:50<00:00, 14.85it/s]\n"
     ]
    },
    {
     "name": "stdout",
     "output_type": "stream",
     "text": [
      "month completed:  2021-01-01\n"
     ]
    },
    {
     "name": "stderr",
     "output_type": "stream",
     "text": [
      "Requesting data: 100%|████████████████████████| 672/672 [03:24<00:00,  3.29it/s]\n",
      "Downloading data: 100%|███████████████████████| 672/672 [00:45<00:00, 14.77it/s]\n"
     ]
    },
    {
     "name": "stdout",
     "output_type": "stream",
     "text": [
      "month completed:  2021-02-01\n"
     ]
    },
    {
     "name": "stderr",
     "output_type": "stream",
     "text": [
      "Requesting data: 100%|████████████████████████| 744/744 [03:55<00:00,  3.16it/s]\n",
      "Downloading data: 100%|███████████████████████| 744/744 [00:48<00:00, 15.39it/s]\n"
     ]
    },
    {
     "name": "stdout",
     "output_type": "stream",
     "text": [
      "month completed:  2021-03-01\n"
     ]
    },
    {
     "name": "stderr",
     "output_type": "stream",
     "text": [
      "Requesting data: 100%|████████████████████████| 720/720 [03:52<00:00,  3.10it/s]\n",
      "Downloading data: 100%|███████████████████████| 720/720 [00:47<00:00, 15.31it/s]\n"
     ]
    },
    {
     "name": "stdout",
     "output_type": "stream",
     "text": [
      "month completed:  2021-04-01\n"
     ]
    },
    {
     "name": "stderr",
     "output_type": "stream",
     "text": [
      "Requesting data: 100%|████████████████████████| 744/744 [05:19<00:00,  2.33it/s]\n",
      "Downloading data: 100%|███████████████████████| 744/744 [01:06<00:00, 11.26it/s]\n"
     ]
    },
    {
     "name": "stdout",
     "output_type": "stream",
     "text": [
      "month completed:  2021-05-01\n"
     ]
    },
    {
     "name": "stderr",
     "output_type": "stream",
     "text": [
      "Requesting data: 100%|████████████████████████| 720/720 [04:35<00:00,  2.61it/s]\n",
      "Downloading data: 100%|███████████████████████| 720/720 [00:51<00:00, 14.10it/s]\n"
     ]
    },
    {
     "name": "stdout",
     "output_type": "stream",
     "text": [
      "month completed:  2021-06-01\n"
     ]
    },
    {
     "name": "stderr",
     "output_type": "stream",
     "text": [
      "Requesting data: 100%|████████████████████████| 744/744 [04:56<00:00,  2.51it/s]\n",
      "Downloading data: 100%|███████████████████████| 744/744 [00:55<00:00, 13.40it/s]\n"
     ]
    },
    {
     "name": "stdout",
     "output_type": "stream",
     "text": [
      "month completed:  2021-07-01\n"
     ]
    },
    {
     "name": "stderr",
     "output_type": "stream",
     "text": [
      "Requesting data: 100%|████████████████████████| 744/744 [05:07<00:00,  2.42it/s]\n",
      "Downloading data: 100%|███████████████████████| 744/744 [00:53<00:00, 14.01it/s]\n"
     ]
    },
    {
     "name": "stdout",
     "output_type": "stream",
     "text": [
      "month completed:  2021-08-01\n"
     ]
    },
    {
     "name": "stderr",
     "output_type": "stream",
     "text": [
      "Requesting data: 100%|████████████████████████| 720/720 [04:53<00:00,  2.46it/s]\n",
      "Downloading data: 100%|███████████████████████| 720/720 [00:50<00:00, 14.25it/s]\n"
     ]
    },
    {
     "name": "stdout",
     "output_type": "stream",
     "text": [
      "month completed:  2021-09-01\n"
     ]
    },
    {
     "name": "stderr",
     "output_type": "stream",
     "text": [
      "Requesting data: 100%|████████████████████████| 744/744 [05:02<00:00,  2.46it/s]\n",
      "Downloading data: 100%|███████████████████████| 744/744 [00:53<00:00, 13.80it/s]\n"
     ]
    },
    {
     "name": "stdout",
     "output_type": "stream",
     "text": [
      "month completed:  2021-10-01\n"
     ]
    },
    {
     "name": "stderr",
     "output_type": "stream",
     "text": [
      "Requesting data: 100%|████████████████████████| 720/720 [04:42<00:00,  2.55it/s]\n",
      "Downloading data: 100%|███████████████████████| 720/720 [00:48<00:00, 14.86it/s]\n"
     ]
    },
    {
     "name": "stdout",
     "output_type": "stream",
     "text": [
      "month completed:  2021-11-01\n"
     ]
    },
    {
     "name": "stderr",
     "output_type": "stream",
     "text": [
      "Requesting data: 100%|████████████████████████| 744/744 [05:08<00:00,  2.41it/s]\n",
      "Downloading data: 100%|███████████████████████| 744/744 [00:52<00:00, 14.14it/s]\n"
     ]
    },
    {
     "name": "stdout",
     "output_type": "stream",
     "text": [
      "month completed:  2021-12-01\n",
      "CPU times: user 1h 14min 16s, sys: 12min 40s, total: 1h 26min 57s\n",
      "Wall time: 4h 29min 17s\n"
     ]
    }
   ],
   "source": [
    "%%time\n",
    "#ALL 11 YRs incl 2021\n",
    "# Dallas Point = ee.Geometry.Point([-96.81, 32.78])\n",
    "# Portland = ee.Geometry.Point([-122.68, 45.52])\n",
    "\n",
    "##Las Vegas = ee.Geometry.Point([-115.17, 36.11])\n",
    "#AlbanyNY = ee.Geometry.Point([-73.76, 42.65])\n",
    "#y=\"2019\" #CHANGE\n",
    "#y2=\"2021\" #CHANGE\n",
    "city=\"SpokaneWA\" #CHANGE\n",
    "citypt = ee.Geometry.Point([-117.43, 47.66]) #CHANGE\n",
    "#yrs=[\"2010\", \"2011\", \"2012\", \"2013\", \"2014\",\"2015\", \"2016\", \"2017\", \"2018\", \"2019\", \"2020\", \"2021\", \"2022\"]#  \n",
    "yrs=[\"2018\", \"2019\",\"2020\", \"2021\",\"2022\"] ##  \"2010\", \"2011\", \"2012\", \"2013\", \"2014\",\"2015\", \"2016\", \"2017\",\n",
    "\n",
    "#CHANGE as needed\n",
    "\n",
    "\n",
    "for i in range(4):#CHANGE to 1 less than yrs\n",
    "    Datesy=[yrs[i]+\"-01-01\", yrs[i]+\"-02-01\", yrs[i]+\"-03-01\", yrs[i]+\"-04-01\", yrs[i]+\"-05-01\", yrs[i]+\"-06-01\", yrs[i]+\"-07-01\",yrs[i]+\"-08-01\", yrs[i]+\"-09-01\", yrs[i]+\"-10-01\", #CHANGE\n",
    "        yrs[i]+\"-11-01\", yrs[i]+\"-12-01\", yrs[i+1]+\"-01-01\"]#y+\"-01-01\", y+\"-02-01\", y+\"-03-01\", y+\"-04-01\", y+\"-05-01\", y+\"-06-01\", y+\"-07-01\",\n",
    "\n",
    "    a=1\n",
    "    for i in range(12):#range should be 1 less than no. of datesy\n",
    "      era_collection = era.filterDate(Datesy[a-1], Datesy[a])\n",
    "      #era_collection = era.filterDate(\"2010-01-01\", \"2011-01-01\")\n",
    "      #Indianapolis_pt = ee.Geometry.Point([-86.15,39.76])\n",
    "      #closest in ERA5 to indianapolis coordiantes: 39.7684, long: 86.1581W or -86.1581 or 266.1581\n",
    "      crs = \"EPSG:4326\"\n",
    "      # Spatial resolution in CRS units (meters)\n",
    "      scale = 11_132\n",
    "\n",
    "      InptEra_xarray = era_collection.wx.to_xarray(max_attempts=10, scale=scale, crs=crs, region=citypt) #CHANGE\n",
    "      time.sleep(4)\n",
    "      dask_InptEra = InptEra_xarray.to_dask_dataframe()\n",
    "      time.sleep(2)\n",
    "\n",
    "      parquet_dask_InptEra_file = dask_InptEra.to_parquet('/Users/sn/Documents/GEE/'+city+'Pt12Feat_'+Datesy[a-1]+'.pq', compression='gzip')\n",
    "      time.sleep(1)\n",
    "      print(\"month completed: \", Datesy[a-1])\n",
    "      a=a+1"
   ]
  },
  {
   "cell_type": "code",
   "execution_count": 3,
   "id": "70425f5f",
   "metadata": {},
   "outputs": [
    {
     "name": "stderr",
     "output_type": "stream",
     "text": [
      "Requesting data: 100%|████████████████████████| 744/744 [04:03<00:00,  3.05it/s]\n",
      "Downloading data: 100%|███████████████████████| 744/744 [00:44<00:00, 16.79it/s]\n"
     ]
    },
    {
     "name": "stdout",
     "output_type": "stream",
     "text": [
      "month completed:  2017-03-01\n"
     ]
    },
    {
     "name": "stderr",
     "output_type": "stream",
     "text": [
      "Requesting data: 100%|████████████████████████| 720/720 [03:40<00:00,  3.27it/s]\n",
      "Downloading data: 100%|███████████████████████| 720/720 [00:41<00:00, 17.23it/s]\n"
     ]
    },
    {
     "name": "stdout",
     "output_type": "stream",
     "text": [
      "month completed:  2017-04-01\n"
     ]
    },
    {
     "name": "stderr",
     "output_type": "stream",
     "text": [
      "Requesting data: 100%|████████████████████████| 744/744 [03:47<00:00,  3.27it/s]\n",
      "Downloading data: 100%|███████████████████████| 744/744 [00:42<00:00, 17.46it/s]\n"
     ]
    },
    {
     "name": "stdout",
     "output_type": "stream",
     "text": [
      "month completed:  2017-05-01\n"
     ]
    },
    {
     "name": "stderr",
     "output_type": "stream",
     "text": [
      "Requesting data: 100%|████████████████████████| 720/720 [03:37<00:00,  3.31it/s]\n",
      "Downloading data: 100%|███████████████████████| 720/720 [00:42<00:00, 17.05it/s]\n"
     ]
    },
    {
     "name": "stdout",
     "output_type": "stream",
     "text": [
      "month completed:  2017-06-01\n"
     ]
    },
    {
     "name": "stderr",
     "output_type": "stream",
     "text": [
      "Requesting data: 100%|████████████████████████| 744/744 [03:55<00:00,  3.16it/s]\n",
      "Downloading data: 100%|███████████████████████| 744/744 [01:00<00:00, 12.21it/s]\n"
     ]
    },
    {
     "name": "stdout",
     "output_type": "stream",
     "text": [
      "month completed:  2017-07-01\n"
     ]
    },
    {
     "name": "stderr",
     "output_type": "stream",
     "text": [
      "Requesting data: 100%|████████████████████████| 744/744 [03:49<00:00,  3.24it/s]\n",
      "Downloading data: 100%|███████████████████████| 744/744 [03:07<00:00,  3.98it/s]\n"
     ]
    },
    {
     "name": "stdout",
     "output_type": "stream",
     "text": [
      "month completed:  2017-08-01\n"
     ]
    },
    {
     "name": "stderr",
     "output_type": "stream",
     "text": [
      "Requesting data: 100%|████████████████████████| 720/720 [03:50<00:00,  3.12it/s]\n",
      "Downloading data: 100%|███████████████████████| 720/720 [00:45<00:00, 15.86it/s]\n"
     ]
    },
    {
     "name": "stdout",
     "output_type": "stream",
     "text": [
      "month completed:  2017-09-01\n"
     ]
    },
    {
     "name": "stderr",
     "output_type": "stream",
     "text": [
      "Requesting data: 100%|████████████████████████| 744/744 [04:13<00:00,  2.93it/s]\n",
      "Downloading data: 100%|███████████████████████| 744/744 [00:48<00:00, 15.42it/s]\n"
     ]
    },
    {
     "name": "stdout",
     "output_type": "stream",
     "text": [
      "month completed:  2017-10-01\n"
     ]
    },
    {
     "name": "stderr",
     "output_type": "stream",
     "text": [
      "Requesting data: 100%|████████████████████████| 720/720 [03:47<00:00,  3.17it/s]\n",
      "Downloading data: 100%|███████████████████████| 720/720 [00:47<00:00, 15.14it/s]\n"
     ]
    },
    {
     "name": "stdout",
     "output_type": "stream",
     "text": [
      "month completed:  2017-11-01\n"
     ]
    },
    {
     "name": "stderr",
     "output_type": "stream",
     "text": [
      "Requesting data: 100%|████████████████████████| 744/744 [04:01<00:00,  3.09it/s]\n",
      "Downloading data: 100%|███████████████████████| 744/744 [00:44<00:00, 16.86it/s]\n"
     ]
    },
    {
     "name": "stdout",
     "output_type": "stream",
     "text": [
      "month completed:  2017-12-01\n",
      "CPU times: user 15min 25s, sys: 2min 40s, total: 18min 5s\n",
      "Wall time: 55min 8s\n"
     ]
    }
   ],
   "source": [
    "%%time\n",
    "#1 FULL YR MONTH BY MONTH\n",
    "\n",
    "y=\"2017\" #CHANGE\n",
    "y2=\"2018\" #CHANGE\n",
    "city=\"SpokaneWA\" #CHANGE\n",
    "citypt = ee.Geometry.Point([-117.43, 47.66]) #CHANGE\n",
    "\n",
    "\n",
    "#CHANGE as needed\n",
    "# Datesy=[y+\"-01-01\", y+\"-02-01\", y+\"-03-01\", y+\"-04-01\", y+\"-05-01\", y+\"-06-01\", y+\"-07-01\",y+\"-08-01\", y+\"-09-01\", y+\"-10-01\", #CHANGE\n",
    "#         y+\"-11-01\", y+\"-12-01\", y2+\"-01-01\"]#\n",
    "Datesy=[y+\"-03-01\", y+\"-04-01\", y+\"-05-01\", y+\"-06-01\", y+\"-07-01\",y+\"-08-01\", y+\"-09-01\", y+\"-10-01\", #CHANGE\n",
    "         y+\"-11-01\", y+\"-12-01\", y2+\"-01-01\"]#y+\"-01-01\", y+\"-02-01\", \n",
    "a=1\n",
    "for i in range(10):#CHANGErange should be 1 less than no. of datesy\n",
    "  era_collection = era.filterDate(Datesy[a-1], Datesy[a])\n",
    "  #era_collection = era.filterDate(\"2010-01-01\", \"2011-01-01\")\n",
    "  #Indianapolis_pt = ee.Geometry.Point([-86.15,39.76])\n",
    "  #closest in ERA5 to indianapolis coordiantes: 39.7684, long: 86.1581W or -86.1581 or 266.1581\n",
    "  crs = \"EPSG:4326\"\n",
    "  # Spatial resolution in CRS units (meters)\n",
    "  scale = 11_132\n",
    "\n",
    "  InptEra_xarray = era_collection.wx.to_xarray(max_attempts=10, scale=scale, crs=crs, region=citypt) #CHANGE\n",
    "  time.sleep(4)\n",
    "  dask_InptEra = InptEra_xarray.to_dask_dataframe()\n",
    "  time.sleep(2)\n",
    "\n",
    "  parquet_dask_InptEra_file = dask_InptEra.to_parquet('/Users/sn/Documents/GEE/'+city+'Pt12Feat_'+Datesy[a-1]+'.pq', compression='gzip')\n",
    "  time.sleep(1)\n",
    "  print(\"month completed: \", Datesy[a-1])\n",
    "  a=a+1"
   ]
  },
  {
   "cell_type": "code",
   "execution_count": 5,
   "id": "1e5a3b5c",
   "metadata": {},
   "outputs": [
    {
     "name": "stderr",
     "output_type": "stream",
     "text": [
      "Requesting data: 100%|████████████████████████| 744/744 [05:19<00:00,  2.33it/s]\n",
      "Downloading data: 100%|███████████████████████| 744/744 [00:55<00:00, 13.37it/s]\n"
     ]
    },
    {
     "name": "stdout",
     "output_type": "stream",
     "text": [
      "month completed:  2022-01-01\n"
     ]
    },
    {
     "name": "stderr",
     "output_type": "stream",
     "text": [
      "Requesting data: 100%|████████████████████████| 672/672 [04:34<00:00,  2.45it/s]\n",
      "Downloading data: 100%|███████████████████████| 672/672 [00:53<00:00, 12.64it/s]\n"
     ]
    },
    {
     "name": "stdout",
     "output_type": "stream",
     "text": [
      "month completed:  2022-02-01\n"
     ]
    },
    {
     "name": "stderr",
     "output_type": "stream",
     "text": [
      "Requesting data: 100%|████████████████████████| 744/744 [05:35<00:00,  2.22it/s]\n",
      "Downloading data: 100%|███████████████████████| 744/744 [00:55<00:00, 13.32it/s]\n"
     ]
    },
    {
     "name": "stdout",
     "output_type": "stream",
     "text": [
      "month completed:  2022-03-01\n"
     ]
    },
    {
     "name": "stderr",
     "output_type": "stream",
     "text": [
      "Requesting data: 100%|████████████████████████| 720/720 [05:22<00:00,  2.24it/s]\n",
      "Downloading data: 100%|███████████████████████| 720/720 [01:01<00:00, 11.73it/s]\n"
     ]
    },
    {
     "name": "stdout",
     "output_type": "stream",
     "text": [
      "month completed:  2022-04-01\n"
     ]
    },
    {
     "name": "stderr",
     "output_type": "stream",
     "text": [
      "Requesting data: 100%|████████████████████████| 744/744 [06:01<00:00,  2.06it/s]\n",
      "Downloading data: 100%|███████████████████████| 744/744 [01:06<00:00, 11.11it/s]\n"
     ]
    },
    {
     "name": "stdout",
     "output_type": "stream",
     "text": [
      "month completed:  2022-05-01\n"
     ]
    },
    {
     "name": "stderr",
     "output_type": "stream",
     "text": [
      "Requesting data: 100%|████████████████████████| 720/720 [06:12<00:00,  1.93it/s]\n",
      "Downloading data: 100%|███████████████████████| 720/720 [01:09<00:00, 10.32it/s]\n"
     ]
    },
    {
     "name": "stdout",
     "output_type": "stream",
     "text": [
      "month completed:  2022-06-01\n"
     ]
    }
   ],
   "source": [
    "#2022 only\n",
    "# # Dallas Point = ee.Geometry.Point([-96.81, 32.78])\n",
    "y=\"2022\" #CHANGE\n",
    "#y2=\"2022\" #CHANGE\n",
    "city=\"SpokaneWA\" #CHANGE\n",
    "citypt = ee.Geometry.Point([-117.43, 47.66]) #CHANGE\n",
    "\n",
    "# #CHANGE as needed\n",
    "Datesy=[y+\"-01-01\", y+\"-02-01\", y+\"-03-01\", y+\"-04-01\", y+\"-05-01\", y+\"-06-01\", y+\"-07-01\"]#y+\"-01-01\", y+\"-02-01\", y+\"-03-01\", y+\"-04-01\", y+\"-05-01\", y+\"-06-01\", y+\"-07-01\",, y+\"-07-01\",y+\"-08-01\", y+\"-09-01\", y+\"-10-01\", #CHANGE\n",
    "        #y+\"-11-01\", y+\"-12-01\", y2+\"-01-01\"\n",
    "a=1\n",
    "for i in range(6):#range should be 1 less than no. of datesy\n",
    "  era_collection = era.filterDate(Datesy[a-1], Datesy[a])\n",
    "  #era_collection = era.filterDate(\"2010-01-01\", \"2011-01-01\")\n",
    "  #Indianapolis_pt = ee.Geometry.Point([-86.15,39.76])\n",
    "  #closest in ERA5 to indianapolis coordiantes: 39.7684, long: 86.1581W or -86.1581 or 266.1581\n",
    "  crs = \"EPSG:4326\"\n",
    "  # Spatial resolution in CRS units (meters)\n",
    "  scale = 11_132\n",
    "\n",
    "  InptEra_xarray = era_collection.wx.to_xarray(max_attempts=10, scale=scale, crs=crs, region=citypt) #CHANGE\n",
    "  time.sleep(4)\n",
    "  dask_InptEra = InptEra_xarray.to_dask_dataframe()\n",
    "  time.sleep(2)\n",
    "\n",
    "  parquet_dask_InptEra_file = dask_InptEra.to_parquet('/Users/sn/Documents/GEE/'+city+'Pt12Feat_'+Datesy[a-1]+'.pq', compression='gzip')\n",
    "  time.sleep(1)\n",
    "  print(\"month completed: \", Datesy[a-1])\n",
    "  a=a+1"
   ]
  },
  {
   "cell_type": "code",
   "execution_count": null,
   "id": "bd2a1617",
   "metadata": {},
   "outputs": [],
   "source": [
    "#1 FULL YR MONTH BY MONTH\n",
    "\n",
    "# Dallas Point = ee.Geometry.Point([-96.81, 32.78])\n",
    "y=\"2021\" #CHANGE\n",
    "y2=\"2022\" #CHANGE\n",
    "city=\"Gainnesville\" ##Gainnesville = ee.Geometry.Point([-82.32, 29.65])\n",
    "citypt = ee.Geometry.Point([-82.32, 29.65]) #CHANGE\n",
    "\n",
    "# #CHANGE as needed\n",
    "# Datesy=[yrs[i]+\"-01-01\", yrs[i]+\"-02-01\", yrs[i]+\"-03-01\", yrs[i]+\"-04-01\", yrs[i]+\"-05-01\", yrs[i]+\"-06-01\", yrs[i]+\"-07-01\",yrs[i]+\"-08-01\", yrs[i]+\"-09-01\", yrs[i]+\"-10-01\", #CHANGE\n",
    "#         yrs[i]+\"-11-01\", yrs[i]+\"-12-01\", yrs[i+1]+\"-01-01\"]\n",
    "Datesy=[y+\"-01-01\", y+\"-02-01\", y+\"-03-01\", y+\"-04-01\", y+\"-05-01\", y+\"-06-01\", y+\"-07-01\",y+\"-08-01\", y+\"-09-01\",y+\"-10-01\", \n",
    "         y+\"-11-01\", y+\"-12-01\", y2+\"-01-01\"]#CHANGE\n",
    "#        #y+\"-01-01\", y+\"-02-01\", y+\"-03-01\", y+\"-04-01\", y+\"-05-01\", y+\"-06-01\", y+\"-07-01\",\n",
    "# #\n",
    "a=1\n",
    "for i in range(12):#range should be 1 less than no. of datesy\n",
    "  era_collection = era.filterDate(Datesy[a-1], Datesy[a])\n",
    "  #era_collection = era.filterDate(\"2010-01-01\", \"2011-01-01\")\n",
    "  #Indianapolis_pt = ee.Geometry.Point([-86.15,39.76])\n",
    "  #closest in ERA5 to indianapolis coordiantes: 39.7684, long: 86.1581W or -86.1581 or 266.1581\n",
    "  crs = \"EPSG:4326\"\n",
    "  # Spatial resolution in CRS units (meters)\n",
    "  scale = 11_132\n",
    "\n",
    "  InptEra_xarray = era_collection.wx.to_xarray(max_attempts=10, scale=scale, crs=crs, region=citypt) #CHANGE\n",
    "  time.sleep(4)\n",
    "  dask_InptEra = InptEra_xarray.to_dask_dataframe()\n",
    "  time.sleep(2)\n",
    "\n",
    "  parquet_dask_InptEra_file = dask_InptEra.to_parquet('/Users/sn/Documents/GEE/'+city+'Pt12Feat_'+Datesy[a-1]+'.pq', compression='gzip')\n",
    "  time.sleep(1)\n",
    "  print(\"month completed: \", Datesy[a-1])\n",
    "  a=a+1"
   ]
  },
  {
   "cell_type": "code",
   "execution_count": 4,
   "id": "84b4091d",
   "metadata": {},
   "outputs": [
    {
     "name": "stderr",
     "output_type": "stream",
     "text": [
      "Requesting data: 100%|████████████████████████| 744/744 [04:02<00:00,  3.07it/s]\n",
      "Downloading data: 100%|███████████████████████| 744/744 [00:55<00:00, 13.44it/s]\n"
     ]
    },
    {
     "name": "stdout",
     "output_type": "stream",
     "text": [
      "month completed:  2021-01-01\n"
     ]
    },
    {
     "name": "stderr",
     "output_type": "stream",
     "text": [
      "Requesting data: 100%|████████████████████████| 672/672 [03:15<00:00,  3.43it/s]\n",
      "Downloading data: 100%|███████████████████████| 672/672 [00:47<00:00, 14.13it/s]\n"
     ]
    },
    {
     "name": "stdout",
     "output_type": "stream",
     "text": [
      "month completed:  2021-02-01\n"
     ]
    },
    {
     "name": "stderr",
     "output_type": "stream",
     "text": [
      "Requesting data: 100%|████████████████████████| 744/744 [03:39<00:00,  3.39it/s]\n",
      "Downloading data: 100%|███████████████████████| 744/744 [00:52<00:00, 14.17it/s]\n"
     ]
    },
    {
     "name": "stdout",
     "output_type": "stream",
     "text": [
      "month completed:  2021-03-01\n"
     ]
    },
    {
     "name": "stderr",
     "output_type": "stream",
     "text": [
      "Requesting data: 100%|████████████████████████| 720/720 [03:31<00:00,  3.41it/s]\n",
      "Downloading data: 100%|███████████████████████| 720/720 [00:46<00:00, 15.35it/s]\n"
     ]
    },
    {
     "name": "stdout",
     "output_type": "stream",
     "text": [
      "month completed:  2021-04-01\n"
     ]
    },
    {
     "name": "stderr",
     "output_type": "stream",
     "text": [
      "Requesting data: 100%|████████████████████████| 744/744 [03:44<00:00,  3.32it/s]\n",
      "Downloading data: 100%|███████████████████████| 744/744 [00:47<00:00, 15.68it/s]\n"
     ]
    },
    {
     "name": "stdout",
     "output_type": "stream",
     "text": [
      "month completed:  2021-05-01\n"
     ]
    },
    {
     "name": "stderr",
     "output_type": "stream",
     "text": [
      "Requesting data: 100%|████████████████████████| 720/720 [03:47<00:00,  3.17it/s]\n",
      "Downloading data: 100%|███████████████████████| 720/720 [00:48<00:00, 14.79it/s]\n"
     ]
    },
    {
     "name": "stdout",
     "output_type": "stream",
     "text": [
      "month completed:  2021-06-01\n"
     ]
    },
    {
     "name": "stderr",
     "output_type": "stream",
     "text": [
      "Requesting data: 100%|████████████████████████| 744/744 [03:53<00:00,  3.18it/s]\n",
      "Downloading data: 100%|███████████████████████| 744/744 [00:48<00:00, 15.32it/s]\n"
     ]
    },
    {
     "name": "stdout",
     "output_type": "stream",
     "text": [
      "month completed:  2021-07-01\n"
     ]
    },
    {
     "name": "stderr",
     "output_type": "stream",
     "text": [
      "Requesting data: 100%|████████████████████████| 744/744 [03:50<00:00,  3.22it/s]\n",
      "Downloading data: 100%|███████████████████████| 744/744 [00:47<00:00, 15.80it/s]\n"
     ]
    },
    {
     "name": "stdout",
     "output_type": "stream",
     "text": [
      "month completed:  2021-08-01\n"
     ]
    },
    {
     "name": "stderr",
     "output_type": "stream",
     "text": [
      "Requesting data: 100%|████████████████████████| 720/720 [04:18<00:00,  2.79it/s]\n",
      "Downloading data: 100%|███████████████████████| 720/720 [00:46<00:00, 15.65it/s]\n"
     ]
    },
    {
     "name": "stdout",
     "output_type": "stream",
     "text": [
      "month completed:  2021-09-01\n"
     ]
    },
    {
     "name": "stderr",
     "output_type": "stream",
     "text": [
      "Requesting data: 100%|████████████████████████| 744/744 [05:35<00:00,  2.22it/s]\n",
      "Downloading data: 100%|███████████████████████| 744/744 [00:45<00:00, 16.52it/s]\n"
     ]
    },
    {
     "name": "stdout",
     "output_type": "stream",
     "text": [
      "month completed:  2021-10-01\n"
     ]
    },
    {
     "name": "stderr",
     "output_type": "stream",
     "text": [
      "Requesting data: 100%|████████████████████████| 720/720 [03:33<00:00,  3.38it/s]\n",
      "Downloading data: 100%|███████████████████████| 720/720 [00:44<00:00, 16.18it/s]\n"
     ]
    },
    {
     "name": "stdout",
     "output_type": "stream",
     "text": [
      "month completed:  2021-11-01\n"
     ]
    },
    {
     "name": "stderr",
     "output_type": "stream",
     "text": [
      "Requesting data: 100%|████████████████████████| 744/744 [03:42<00:00,  3.35it/s]\n",
      "Downloading data: 100%|███████████████████████| 744/744 [00:46<00:00, 16.03it/s]\n"
     ]
    },
    {
     "name": "stdout",
     "output_type": "stream",
     "text": [
      "month completed:  2021-12-01\n"
     ]
    },
    {
     "name": "stderr",
     "output_type": "stream",
     "text": [
      "Requesting data: 100%|████████████████████████| 744/744 [04:00<00:00,  3.09it/s]\n",
      "Downloading data: 100%|███████████████████████| 744/744 [00:47<00:00, 15.80it/s]\n"
     ]
    },
    {
     "name": "stdout",
     "output_type": "stream",
     "text": [
      "month completed:  2022-01-01\n"
     ]
    },
    {
     "name": "stderr",
     "output_type": "stream",
     "text": [
      "Requesting data: 100%|████████████████████████| 672/672 [03:15<00:00,  3.44it/s]\n",
      "Downloading data: 100%|███████████████████████| 672/672 [00:41<00:00, 16.07it/s]\n"
     ]
    },
    {
     "name": "stdout",
     "output_type": "stream",
     "text": [
      "month completed:  2022-02-01\n"
     ]
    },
    {
     "name": "stderr",
     "output_type": "stream",
     "text": [
      "Requesting data: 100%|████████████████████████| 744/744 [03:57<00:00,  3.14it/s]\n",
      "Downloading data: 100%|███████████████████████| 744/744 [00:46<00:00, 15.95it/s]\n"
     ]
    },
    {
     "name": "stdout",
     "output_type": "stream",
     "text": [
      "month completed:  2022-03-01\n"
     ]
    },
    {
     "name": "stderr",
     "output_type": "stream",
     "text": [
      "Requesting data: 100%|████████████████████████| 720/720 [03:42<00:00,  3.24it/s]\n",
      "Downloading data: 100%|███████████████████████| 720/720 [00:44<00:00, 16.00it/s]\n"
     ]
    },
    {
     "name": "stdout",
     "output_type": "stream",
     "text": [
      "month completed:  2022-04-01\n"
     ]
    },
    {
     "name": "stderr",
     "output_type": "stream",
     "text": [
      "Requesting data: 100%|████████████████████████| 744/744 [03:53<00:00,  3.19it/s]\n",
      "Downloading data: 100%|███████████████████████| 744/744 [00:47<00:00, 15.73it/s]\n"
     ]
    },
    {
     "name": "stdout",
     "output_type": "stream",
     "text": [
      "month completed:  2022-05-01\n"
     ]
    },
    {
     "name": "stderr",
     "output_type": "stream",
     "text": [
      "Requesting data: 100%|████████████████████████| 720/720 [03:48<00:00,  3.15it/s]\n",
      "Downloading data: 100%|███████████████████████| 720/720 [00:45<00:00, 15.91it/s]\n"
     ]
    },
    {
     "name": "stdout",
     "output_type": "stream",
     "text": [
      "month completed:  2022-06-01\n"
     ]
    }
   ],
   "source": [
    "# #1 FULL YR MONTH BY MONTH\n",
    "\n",
    "# # Dallas Point = ee.Geometry.Point([-96.81, 32.78])\n",
    "# y=\"2021\" #CHANGE\n",
    "# y2=\"2022\" #CHANGE\n",
    "# city=\"Gainnesville\" ##Gainnesville = ee.Geometry.Point([-82.32, 29.65])\n",
    "# citypt = ee.Geometry.Point([-82.32, 29.65]) #CHANGE\n",
    "\n",
    "# # #CHANGE as needed\n",
    "# # Datesy=[yrs[i]+\"-01-01\", yrs[i]+\"-02-01\", yrs[i]+\"-03-01\", yrs[i]+\"-04-01\", yrs[i]+\"-05-01\", yrs[i]+\"-06-01\", yrs[i]+\"-07-01\",yrs[i]+\"-08-01\", yrs[i]+\"-09-01\", yrs[i]+\"-10-01\", #CHANGE\n",
    "# #         yrs[i]+\"-11-01\", yrs[i]+\"-12-01\", yrs[i+1]+\"-01-01\"]\n",
    "# Datesy=[y+\"-01-01\", y+\"-02-01\", y+\"-03-01\", y+\"-04-01\", y+\"-05-01\", y+\"-06-01\", y+\"-07-01\",y+\"-08-01\", y+\"-09-01\",y+\"-10-01\", \n",
    "#          y+\"-11-01\", y+\"-12-01\", y2+\"-01-01\"]#CHANGE\n",
    "# #        #y+\"-01-01\", y+\"-02-01\", y+\"-03-01\", y+\"-04-01\", y+\"-05-01\", y+\"-06-01\", y+\"-07-01\",\n",
    "# # #\n",
    "# a=1\n",
    "# for i in range(12):#range should be 1 less than no. of datesy\n",
    "#   era_collection = era.filterDate(Datesy[a-1], Datesy[a])\n",
    "#   #era_collection = era.filterDate(\"2010-01-01\", \"2011-01-01\")\n",
    "#   #Indianapolis_pt = ee.Geometry.Point([-86.15,39.76])\n",
    "#   #closest in ERA5 to indianapolis coordiantes: 39.7684, long: 86.1581W or -86.1581 or 266.1581\n",
    "#   crs = \"EPSG:4326\"\n",
    "#   # Spatial resolution in CRS units (meters)\n",
    "#   scale = 11_132\n",
    "\n",
    "#   InptEra_xarray = era_collection.wx.to_xarray(max_attempts=10, scale=scale, crs=crs, region=citypt) #CHANGE\n",
    "#   time.sleep(4)\n",
    "#   dask_InptEra = InptEra_xarray.to_dask_dataframe()\n",
    "#   time.sleep(2)\n",
    "\n",
    "#   parquet_dask_InptEra_file = dask_InptEra.to_parquet('/Users/sn/Documents/GEE/'+city+'Pt12Feat_'+Datesy[a-1]+'.pq', compression='gzip')\n",
    "#   time.sleep(1)\n",
    "#   print(\"month completed: \", Datesy[a-1])\n",
    "#   a=a+1\n",
    "# ########################################################################################################\n",
    "# #HALF YEAR MONTH BY MONTH 2022\n",
    "\n",
    "# # Dallas Point = ee.Geometry.Point([-96.81, 32.78])\n",
    "y=\"2022\" #CHANGE\n",
    "#y2=\"2022\" #CHANGE\n",
    "city=\"Gainnesville\" ##Gainnesville = ee.Geometry.Point([-82.32, 29.65])\n",
    "citypt = ee.Geometry.Point([-82.32, 29.65]) #CHANGE\n",
    "\n",
    "# #CHANGE as needed\n",
    "Datesy=[y+\"-01-01\", y+\"-02-01\", y+\"-03-01\", y+\"-04-01\", y+\"-05-01\", y+\"-06-01\", y+\"-07-01\"]#y+\"-01-01\", y+\"-02-01\", y+\"-03-01\", y+\"-04-01\", y+\"-05-01\", y+\"-06-01\", y+\"-07-01\",, y+\"-07-01\",y+\"-08-01\", y+\"-09-01\", y+\"-10-01\", #CHANGE\n",
    "        #y+\"-11-01\", y+\"-12-01\", y2+\"-01-01\"\n",
    "a=1\n",
    "for i in range(6):#range should be 1 less than no. of datesy\n",
    "  era_collection = era.filterDate(Datesy[a-1], Datesy[a])\n",
    "  #era_collection = era.filterDate(\"2010-01-01\", \"2011-01-01\")\n",
    "  #Indianapolis_pt = ee.Geometry.Point([-86.15,39.76])\n",
    "  #closest in ERA5 to indianapolis coordiantes: 39.7684, long: 86.1581W or -86.1581 or 266.1581\n",
    "  crs = \"EPSG:4326\"\n",
    "  # Spatial resolution in CRS units (meters)\n",
    "  scale = 11_132\n",
    "\n",
    "  InptEra_xarray = era_collection.wx.to_xarray(max_attempts=10, scale=scale, crs=crs, region=citypt) #CHANGE\n",
    "  time.sleep(4)\n",
    "  dask_InptEra = InptEra_xarray.to_dask_dataframe()\n",
    "  time.sleep(2)\n",
    "\n",
    "  parquet_dask_InptEra_file = dask_InptEra.to_parquet('/Users/sn/Documents/GEE/'+city+'Pt12Feat_'+Datesy[a-1]+'.pq', compression='gzip')\n",
    "  time.sleep(1)\n",
    "  print(\"month completed: \", Datesy[a-1])\n",
    "  a=a+1\n",
    "##################################################################################################\n",
    "##################################################################################################\n",
    "#1 FULL YR MONTH BY MONTH\n",
    "\n",
    "##Las Vegas = ee.Geometry.Point([-115.17, 36.11])\n",
    "# y=\"2021\" #CHANGE\n",
    "# y2=\"2022\" #CHANGE\n",
    "# city=\"Portland\" #CHANGE# Portland = ee.Geometry.Point([-122.68, 45.52]\n",
    "# citypt = ee.Geometry.Point([-122.68, 45.52]) #CHANGE\n",
    "\n",
    "# #CHANGE as needed\n",
    "# Datesy=[y+\"-01-01\", y+\"-02-01\", y+\"-03-01\", y+\"-04-01\", y+\"-05-01\", y+\"-06-01\", y+\"-07-01\",y+\"-08-01\", y+\"-09-01\", y+\"-10-01\", #CHANGE\n",
    "#         y+\"-11-01\", y+\"-12-01\", y2+\"-01-01\"]\n",
    "# # Datesy=[y+\"-01-01\", y+\"-02-01\", y+\"-03-01\", y+\"-04-01\", y+\"-05-01\", y+\"-06-01\", y+\"-07-01\",\n",
    "# #         y+\"-08-01\", y+\"-09-01\", y+\"-10-01\", y+\"-11-01\",y+\"-12-01\", y2+\"-01-01\"]\n",
    "# a=1\n",
    "# for i in range(12):#CHANGE range should be 1 less than no. of datesy\n",
    "#   era_collection = era.filterDate(Datesy[a-1], Datesy[a])\n",
    "#   #era_collection = era.filterDate(\"2010-01-01\", \"2011-01-01\")\n",
    "#   #Indianapolis_pt = ee.Geometry.Point([-86.15,39.76])\n",
    "#   #closest in ERA5 to indianapolis coordiantes: 39.7684, long: 86.1581W or -86.1581 or 266.1581\n",
    "#   crs = \"EPSG:4326\"\n",
    "#   # Spatial resolution in CRS units (meters)\n",
    "#   scale = 11_132\n",
    "\n",
    "#   InptEra_xarray = era_collection.wx.to_xarray(max_attempts=10, scale=scale, crs=crs, region=citypt) #CHANGE\n",
    "#   time.sleep(4)\n",
    "#   dask_InptEra = InptEra_xarray.to_dask_dataframe()\n",
    "#   time.sleep(2)\n",
    "\n",
    "#   parquet_dask_InptEra_file = dask_InptEra.to_parquet('/Users/sn/Documents/GEE/'+city+'Pt12Feat_'+Datesy[a-1]+'.pq', compression='gzip')\n",
    "#   time.sleep(1)\n",
    "#   print(\"month completed: \", Datesy[a-1])\n",
    "#   a=a+1\n",
    "########################################################################################################\n",
    "# #HALF YEAR MONTH BY MONTH 2022\n",
    "\n",
    "# ##Las Vegas = ee.Geometry.Point([-115.17, 36.11])\n",
    "# y=\"2022\" #CHANGE\n",
    "# #y2=\"2022\" #CHANGE\n",
    "# city=\"Portland\" #CHANGE\n",
    "# citypt = ee.Geometry.Point([-122.68, 45.52]) #CHANGE\n",
    "\n",
    "# #CHANGE as needed\n",
    "# Datesy=[y+\"-01-01\", y+\"-02-01\", y+\"-03-01\", y+\"-04-01\", y+\"-05-01\", y+\"-06-01\", y+\"-07-01\"]#y+\"-01-01\", y+\"-02-01\", y+\"-03-01\", y+\"-04-01\", y+\"-05-01\", y+\"-06-01\", y+\"-07-01\",, y+\"-07-01\",y+\"-08-01\", y+\"-09-01\", y+\"-10-01\", #CHANGE\n",
    "#         #y+\"-11-01\", y+\"-12-01\", y2+\"-01-01\"\n",
    "# a=1\n",
    "# for i in range(6):#range should be 1 less than no. of datesy\n",
    "#   era_collection = era.filterDate(Datesy[a-1], Datesy[a])\n",
    "#   #era_collection = era.filterDate(\"2010-01-01\", \"2011-01-01\")\n",
    "#   #Indianapolis_pt = ee.Geometry.Point([-86.15,39.76])\n",
    "#   #closest in ERA5 to indianapolis coordiantes: 39.7684, long: 86.1581W or -86.1581 or 266.1581\n",
    "#   crs = \"EPSG:4326\"\n",
    "#   # Spatial resolution in CRS units (meters)\n",
    "#   scale = 11_132\n",
    "\n",
    "#   InptEra_xarray = era_collection.wx.to_xarray(max_attempts=10, scale=scale, crs=crs, region=citypt) #CHANGE\n",
    "#   time.sleep(4)\n",
    "#   dask_InptEra = InptEra_xarray.to_dask_dataframe()\n",
    "#   time.sleep(2)\n",
    "\n",
    "#   parquet_dask_InptEra_file = dask_InptEra.to_parquet('/Users/sn/Documents/GEE/'+city+'Pt12Feat_'+Datesy[a-1]+'.pq', compression='gzip')\n",
    "#   time.sleep(1)\n",
    "#   print(\"month completed: \", Datesy[a-1])\n",
    "#   a=a+1"
   ]
  },
  {
   "cell_type": "code",
   "execution_count": null,
   "id": "1b09c2e1",
   "metadata": {},
   "outputs": [],
   "source": []
  },
  {
   "cell_type": "code",
   "execution_count": 22,
   "id": "99fced93",
   "metadata": {},
   "outputs": [
    {
     "name": "stdout",
     "output_type": "stream",
     "text": [
      "2020-01-01 2020-02-01\n",
      "2020-02-01 2020-03-01\n",
      "2020-03-01 2020-04-01\n",
      "2020-04-01 2020-05-01\n",
      "2020-05-01 2020-06-01\n",
      "2020-06-01 2020-07-01\n",
      "2020-07-01 2020-08-01\n",
      "2020-08-01 2020-09-01\n",
      "2020-09-01 2020-10-01\n",
      "2020-10-01 2020-11-01\n",
      "2020-11-01 2020-12-01\n",
      "2020-12-01 2021-01-01\n"
     ]
    }
   ],
   "source": [
    "yrs=[\"2010\", \"2011\", \"2012\", \"2013\", \"2014\", \"2015\", \"2016\", \"2017\", \"2018\", \"2019\", \"2020\", \"2021\"]\n",
    "# for i in range(11):\n",
    "#     print(yrs[i], yrs[i+1])\n",
    "    \n",
    "Datesy=[yrs[i]+\"-01-01\", yrs[i]+\"-02-01\", yrs[i]+\"-03-01\", yrs[i]+\"-04-01\", yrs[i]+\"-05-01\", yrs[i]+\"-06-01\", yrs[i]+\"-07-01\",yrs[i]+\"-08-01\", yrs[i]+\"-09-01\", yrs[i]+\"-10-01\", #CHANGE\n",
    "        yrs[i]+\"-11-01\", yrs[i]+\"-12-01\", yrs[i+1]+\"-01-01\"]#y+\"-01-01\", y+\"-02-01\", y+\"-03-01\", y+\"-04-01\", y+\"-05-01\", y+\"-06-01\", y+\"-07-01\",\n",
    "\n",
    "a=1\n",
    "for i in range(12):\n",
    "    print(Datesy[a-1], Datesy[a])\n",
    "    a=a+1"
   ]
  },
  {
   "cell_type": "code",
   "execution_count": null,
   "id": "3a6175a0",
   "metadata": {},
   "outputs": [],
   "source": []
  },
  {
   "cell_type": "code",
   "execution_count": null,
   "id": "fba8d9bf",
   "metadata": {},
   "outputs": [],
   "source": []
  },
  {
   "cell_type": "code",
   "execution_count": 4,
   "id": "02170c1b",
   "metadata": {},
   "outputs": [
    {
     "name": "stderr",
     "output_type": "stream",
     "text": [
      "Requesting data: 100%|████████████████████████| 720/720 [03:00<00:00,  4.00it/s]\n",
      "Downloading data: 100%|███████████████████████| 720/720 [00:48<00:00, 14.73it/s]\n"
     ]
    },
    {
     "name": "stdout",
     "output_type": "stream",
     "text": [
      "month completed:  2014-09-01\n"
     ]
    },
    {
     "name": "stderr",
     "output_type": "stream",
     "text": [
      "Requesting data: 100%|████████████████████████| 744/744 [03:07<00:00,  3.97it/s]\n",
      "Downloading data: 100%|███████████████████████| 744/744 [00:48<00:00, 15.28it/s]\n"
     ]
    },
    {
     "name": "stdout",
     "output_type": "stream",
     "text": [
      "month completed:  2014-10-01\n"
     ]
    },
    {
     "name": "stderr",
     "output_type": "stream",
     "text": [
      "Requesting data: 100%|████████████████████████| 720/720 [02:54<00:00,  4.13it/s]\n",
      "Downloading data: 100%|███████████████████████| 720/720 [00:42<00:00, 16.99it/s]\n"
     ]
    },
    {
     "name": "stdout",
     "output_type": "stream",
     "text": [
      "month completed:  2014-11-01\n"
     ]
    },
    {
     "name": "stderr",
     "output_type": "stream",
     "text": [
      "Requesting data: 100%|████████████████████████| 744/744 [03:06<00:00,  3.99it/s]\n",
      "Downloading data: 100%|███████████████████████| 744/744 [00:42<00:00, 17.45it/s]\n"
     ]
    },
    {
     "name": "stdout",
     "output_type": "stream",
     "text": [
      "month completed:  2014-12-01\n"
     ]
    },
    {
     "ename": "IndexError",
     "evalue": "list index out of range",
     "output_type": "error",
     "traceback": [
      "\u001b[0;31m---------------------------------------------------------------------------\u001b[0m",
      "\u001b[0;31mIndexError\u001b[0m                                Traceback (most recent call last)",
      "File \u001b[0;32m<timed exec>:14\u001b[0m\n",
      "\u001b[0;31mIndexError\u001b[0m: list index out of range"
     ]
    }
   ],
   "source": [
    "%%time\n",
    "#PARTIAL YR\n",
    "##Las Vegas = ee.Geometry.Point([-115.17, 36.11])\n",
    "y=\"2020\" #CHANGE\n",
    "y2=\"2021\" #CHANGE\n",
    "city=\"LasVegas\" #CHANGE\n",
    "citypt = ee.Geometry.Point([-122.68, 45.52]) #CHANGE\n",
    "\n",
    "#CHANGE as needed\n",
    "Datesy=[y+\"-09-01\", y+\"-10-01\",y+\"-11-01\", #CHANGE\n",
    "        y+\"-12-01\", y2+\"-01-01\"]#y+\"-01-01\", y+\"-02-01\", y+\"-03-01\", y+\"-04-01\", y+\"-05-01\", y+\"-06-01\", y+\"-07-01\",\n",
    "#y+\"-01-01\", y+\"-02-01\", y+\"-03-01\", y+\"-04-01\", y+\"-05-01\", y+\"-06-01\", y+\"-07-01\",y+\"-08-01\", y+\"-09-01\", y+\"-10-01\",y+\"-11-01\", \n",
    "a=1\n",
    "for i in range(12):#range should be 1 less than no. of datesy\n",
    "  era_collection = era.filterDate(Datesy[a-1], Datesy[a])\n",
    "  #era_collection = era.filterDate(\"2010-01-01\", \"2011-01-01\")\n",
    "  #Indianapolis_pt = ee.Geometry.Point([-86.15,39.76])\n",
    "  #closest in ERA5 to indianapolis coordiantes: 39.7684, long: 86.1581W or -86.1581 or 266.1581\n",
    "  crs = \"EPSG:4326\"\n",
    "  # Spatial resolution in CRS units (meters)\n",
    "  scale = 11_132\n",
    "\n",
    "  InptEra_xarray = era_collection.wx.to_xarray(max_attempts=10, scale=scale, crs=crs, region=citypt) #CHANGE\n",
    "  time.sleep(4)\n",
    "  dask_InptEra = InptEra_xarray.to_dask_dataframe()\n",
    "  time.sleep(2)\n",
    "\n",
    "  parquet_dask_InptEra_file = dask_InptEra.to_parquet('/Users/sn/Documents/GEE/'+city+'Pt12Feat_'+Datesy[a-1]+'.pq', compression='gzip')\n",
    "  time.sleep(1)\n",
    "  print(\"month completed: \", Datesy[a-1])\n",
    "  a=a+1"
   ]
  },
  {
   "cell_type": "code",
   "execution_count": null,
   "id": "e7fb89c5",
   "metadata": {},
   "outputs": [],
   "source": []
  },
  {
   "cell_type": "code",
   "execution_count": null,
   "id": "8c54636a",
   "metadata": {},
   "outputs": [],
   "source": []
  },
  {
   "cell_type": "code",
   "execution_count": null,
   "id": "1f57a066",
   "metadata": {},
   "outputs": [],
   "source": []
  },
  {
   "cell_type": "code",
   "execution_count": 8,
   "id": "f9fe2a91",
   "metadata": {},
   "outputs": [
    {
     "name": "stderr",
     "output_type": "stream",
     "text": [
      "Requesting data:   5%|█                    | 465/8760 [12:25<3:41:31,  1.60s/it]\n"
     ]
    },
    {
     "ename": "KeyboardInterrupt",
     "evalue": "",
     "output_type": "error",
     "traceback": [
      "\u001b[0;31m---------------------------------------------------------------------------\u001b[0m",
      "\u001b[0;31mKeyboardInterrupt\u001b[0m                         Traceback (most recent call last)",
      "File \u001b[0;32m<timed exec>:20\u001b[0m\n",
      "File \u001b[0;32m~/miniforge3/lib/python3.10/site-packages/wxee/collection.py:119\u001b[0m, in \u001b[0;36mImageCollection.to_xarray\u001b[0;34m(self, path, region, scale, crs, masked, nodata, num_cores, progress, max_attempts)\u001b[0m\n\u001b[1;32m     71\u001b[0m \u001b[38;5;124;03m\"\"\"Convert an image collection to an xarray.Dataset. The :code:`system:time_start` property of each image in the\u001b[39;00m\n\u001b[1;32m     72\u001b[0m \u001b[38;5;124;03mcollection is used to arrange the time dimension, and each image variable is loaded as a separate array in\u001b[39;00m\n\u001b[1;32m     73\u001b[0m \u001b[38;5;124;03mthe dataset.\u001b[39;00m\n\u001b[0;32m   (...)\u001b[0m\n\u001b[1;32m    115\u001b[0m \u001b[38;5;124;03m>>> col.wx.to_xarray(scale=40000, crs=\"EPSG:5070\", nodata=-9999)\u001b[39;00m\n\u001b[1;32m    116\u001b[0m \u001b[38;5;124;03m\"\"\"\u001b[39;00m\n\u001b[1;32m    117\u001b[0m \u001b[38;5;28;01mwith\u001b[39;00m tempfile\u001b[38;5;241m.\u001b[39mTemporaryDirectory(prefix\u001b[38;5;241m=\u001b[39mconstants\u001b[38;5;241m.\u001b[39mTMP_PREFIX) \u001b[38;5;28;01mas\u001b[39;00m tmp:\n\u001b[0;32m--> 119\u001b[0m     files \u001b[38;5;241m=\u001b[39m \u001b[38;5;28;43mself\u001b[39;49m\u001b[38;5;241;43m.\u001b[39;49m\u001b[43m_obj\u001b[49m\u001b[38;5;241;43m.\u001b[39;49m\u001b[43mwx\u001b[49m\u001b[38;5;241;43m.\u001b[39;49m\u001b[43mto_tif\u001b[49m\u001b[43m(\u001b[49m\n\u001b[1;32m    120\u001b[0m \u001b[43m        \u001b[49m\u001b[43mout_dir\u001b[49m\u001b[38;5;241;43m=\u001b[39;49m\u001b[43mtmp\u001b[49m\u001b[43m,\u001b[49m\n\u001b[1;32m    121\u001b[0m \u001b[43m        \u001b[49m\u001b[43mregion\u001b[49m\u001b[38;5;241;43m=\u001b[39;49m\u001b[43mregion\u001b[49m\u001b[43m,\u001b[49m\n\u001b[1;32m    122\u001b[0m \u001b[43m        \u001b[49m\u001b[43mscale\u001b[49m\u001b[38;5;241;43m=\u001b[39;49m\u001b[43mscale\u001b[49m\u001b[43m,\u001b[49m\n\u001b[1;32m    123\u001b[0m \u001b[43m        \u001b[49m\u001b[43mcrs\u001b[49m\u001b[38;5;241;43m=\u001b[39;49m\u001b[43mcrs\u001b[49m\u001b[43m,\u001b[49m\n\u001b[1;32m    124\u001b[0m \u001b[43m        \u001b[49m\u001b[43mfile_per_band\u001b[49m\u001b[38;5;241;43m=\u001b[39;49m\u001b[38;5;28;43;01mTrue\u001b[39;49;00m\u001b[43m,\u001b[49m\n\u001b[1;32m    125\u001b[0m \u001b[43m        \u001b[49m\u001b[43mmasked\u001b[49m\u001b[38;5;241;43m=\u001b[39;49m\u001b[43mmasked\u001b[49m\u001b[43m,\u001b[49m\n\u001b[1;32m    126\u001b[0m \u001b[43m        \u001b[49m\u001b[43mnodata\u001b[49m\u001b[38;5;241;43m=\u001b[39;49m\u001b[43mnodata\u001b[49m\u001b[43m,\u001b[49m\n\u001b[1;32m    127\u001b[0m \u001b[43m        \u001b[49m\u001b[43mnum_cores\u001b[49m\u001b[38;5;241;43m=\u001b[39;49m\u001b[43mnum_cores\u001b[49m\u001b[43m,\u001b[49m\n\u001b[1;32m    128\u001b[0m \u001b[43m        \u001b[49m\u001b[43mprogress\u001b[49m\u001b[38;5;241;43m=\u001b[39;49m\u001b[43mprogress\u001b[49m\u001b[43m,\u001b[49m\n\u001b[1;32m    129\u001b[0m \u001b[43m        \u001b[49m\u001b[43mmax_attempts\u001b[49m\u001b[38;5;241;43m=\u001b[39;49m\u001b[43mmax_attempts\u001b[49m\u001b[43m,\u001b[49m\n\u001b[1;32m    130\u001b[0m \u001b[43m    \u001b[49m\u001b[43m)\u001b[49m\n\u001b[1;32m    132\u001b[0m     ds \u001b[38;5;241m=\u001b[39m _dataset_from_files(files, masked, nodata)\n\u001b[1;32m    134\u001b[0m \u001b[38;5;28;01mif\u001b[39;00m path:\n",
      "File \u001b[0;32m~/miniforge3/lib/python3.10/site-packages/wxee/collection.py:209\u001b[0m, in \u001b[0;36mImageCollection.to_tif\u001b[0;34m(self, out_dir, prefix, region, scale, crs, file_per_band, masked, nodata, num_cores, progress, max_attempts)\u001b[0m\n\u001b[1;32m    205\u001b[0m \u001b[38;5;28;01mwith\u001b[39;00m Parallel(n_jobs\u001b[38;5;241m=\u001b[39mnum_cores, backend\u001b[38;5;241m=\u001b[39m\u001b[38;5;124m\"\u001b[39m\u001b[38;5;124mthreading\u001b[39m\u001b[38;5;124m\"\u001b[39m) \u001b[38;5;28;01mas\u001b[39;00m p:\n\u001b[1;32m    206\u001b[0m     \u001b[38;5;28;01mwith\u001b[39;00m parallel_tqdm(\n\u001b[1;32m    207\u001b[0m         tqdm(desc\u001b[38;5;241m=\u001b[39m\u001b[38;5;124m\"\u001b[39m\u001b[38;5;124mRequesting data\u001b[39m\u001b[38;5;124m\"\u001b[39m, total\u001b[38;5;241m=\u001b[39mn, disable\u001b[38;5;241m=\u001b[39m\u001b[38;5;129;01mnot\u001b[39;00m progress)\n\u001b[1;32m    208\u001b[0m     ):\n\u001b[0;32m--> 209\u001b[0m         urls \u001b[38;5;241m=\u001b[39m \u001b[43mp\u001b[49m\u001b[43m(\u001b[49m\n\u001b[1;32m    210\u001b[0m \u001b[43m            \u001b[49m\u001b[43mdelayed\u001b[49m\u001b[43m(\u001b[49m\u001b[43mimg\u001b[49m\u001b[38;5;241;43m.\u001b[39;49m\u001b[43mwx\u001b[49m\u001b[38;5;241;43m.\u001b[39;49m\u001b[43m_get_url\u001b[49m\u001b[43m)\u001b[49m\u001b[43m(\u001b[49m\n\u001b[1;32m    211\u001b[0m \u001b[43m                \u001b[49m\u001b[43mregion\u001b[49m\u001b[43m,\u001b[49m\u001b[43m \u001b[49m\u001b[43mscale\u001b[49m\u001b[43m,\u001b[49m\u001b[43m \u001b[49m\u001b[43mcrs\u001b[49m\u001b[43m,\u001b[49m\u001b[43m \u001b[49m\u001b[43mfile_per_band\u001b[49m\u001b[43m,\u001b[49m\u001b[43m \u001b[49m\u001b[43mnodata\u001b[49m\u001b[43m,\u001b[49m\u001b[43m \u001b[49m\u001b[43mmax_attempts\u001b[49m\n\u001b[1;32m    212\u001b[0m \u001b[43m            \u001b[49m\u001b[43m)\u001b[49m\n\u001b[1;32m    213\u001b[0m \u001b[43m            \u001b[49m\u001b[38;5;28;43;01mfor\u001b[39;49;00m\u001b[43m \u001b[49m\u001b[43mimg\u001b[49m\u001b[43m \u001b[49m\u001b[38;5;129;43;01min\u001b[39;49;00m\u001b[43m \u001b[49m\u001b[43mimgs\u001b[49m\n\u001b[1;32m    214\u001b[0m \u001b[43m        \u001b[49m\u001b[43m)\u001b[49m\n\u001b[1;32m    216\u001b[0m     \u001b[38;5;28;01mwith\u001b[39;00m parallel_tqdm(\n\u001b[1;32m    217\u001b[0m         tqdm(desc\u001b[38;5;241m=\u001b[39m\u001b[38;5;124m\"\u001b[39m\u001b[38;5;124mDownloading data\u001b[39m\u001b[38;5;124m\"\u001b[39m, total\u001b[38;5;241m=\u001b[39mn, disable\u001b[38;5;241m=\u001b[39m\u001b[38;5;129;01mnot\u001b[39;00m progress)\n\u001b[1;32m    218\u001b[0m     ):\n\u001b[1;32m    219\u001b[0m         img_urls \u001b[38;5;241m=\u001b[39m \u001b[38;5;28mzip\u001b[39m(imgs, urls)\n",
      "File \u001b[0;32m~/miniforge3/lib/python3.10/site-packages/joblib/parallel.py:1098\u001b[0m, in \u001b[0;36mParallel.__call__\u001b[0;34m(self, iterable)\u001b[0m\n\u001b[1;32m   1095\u001b[0m     \u001b[38;5;28mself\u001b[39m\u001b[38;5;241m.\u001b[39m_iterating \u001b[38;5;241m=\u001b[39m \u001b[38;5;28;01mFalse\u001b[39;00m\n\u001b[1;32m   1097\u001b[0m \u001b[38;5;28;01mwith\u001b[39;00m \u001b[38;5;28mself\u001b[39m\u001b[38;5;241m.\u001b[39m_backend\u001b[38;5;241m.\u001b[39mretrieval_context():\n\u001b[0;32m-> 1098\u001b[0m     \u001b[38;5;28;43mself\u001b[39;49m\u001b[38;5;241;43m.\u001b[39;49m\u001b[43mretrieve\u001b[49m\u001b[43m(\u001b[49m\u001b[43m)\u001b[49m\n\u001b[1;32m   1099\u001b[0m \u001b[38;5;66;03m# Make sure that we get a last message telling us we are done\u001b[39;00m\n\u001b[1;32m   1100\u001b[0m elapsed_time \u001b[38;5;241m=\u001b[39m time\u001b[38;5;241m.\u001b[39mtime() \u001b[38;5;241m-\u001b[39m \u001b[38;5;28mself\u001b[39m\u001b[38;5;241m.\u001b[39m_start_time\n",
      "File \u001b[0;32m~/miniforge3/lib/python3.10/site-packages/joblib/parallel.py:975\u001b[0m, in \u001b[0;36mParallel.retrieve\u001b[0;34m(self)\u001b[0m\n\u001b[1;32m    973\u001b[0m \u001b[38;5;28;01mtry\u001b[39;00m:\n\u001b[1;32m    974\u001b[0m     \u001b[38;5;28;01mif\u001b[39;00m \u001b[38;5;28mgetattr\u001b[39m(\u001b[38;5;28mself\u001b[39m\u001b[38;5;241m.\u001b[39m_backend, \u001b[38;5;124m'\u001b[39m\u001b[38;5;124msupports_timeout\u001b[39m\u001b[38;5;124m'\u001b[39m, \u001b[38;5;28;01mFalse\u001b[39;00m):\n\u001b[0;32m--> 975\u001b[0m         \u001b[38;5;28mself\u001b[39m\u001b[38;5;241m.\u001b[39m_output\u001b[38;5;241m.\u001b[39mextend(\u001b[43mjob\u001b[49m\u001b[38;5;241;43m.\u001b[39;49m\u001b[43mget\u001b[49m\u001b[43m(\u001b[49m\u001b[43mtimeout\u001b[49m\u001b[38;5;241;43m=\u001b[39;49m\u001b[38;5;28;43mself\u001b[39;49m\u001b[38;5;241;43m.\u001b[39;49m\u001b[43mtimeout\u001b[49m\u001b[43m)\u001b[49m)\n\u001b[1;32m    976\u001b[0m     \u001b[38;5;28;01melse\u001b[39;00m:\n\u001b[1;32m    977\u001b[0m         \u001b[38;5;28mself\u001b[39m\u001b[38;5;241m.\u001b[39m_output\u001b[38;5;241m.\u001b[39mextend(job\u001b[38;5;241m.\u001b[39mget())\n",
      "File \u001b[0;32m~/miniforge3/lib/python3.10/multiprocessing/pool.py:768\u001b[0m, in \u001b[0;36mApplyResult.get\u001b[0;34m(self, timeout)\u001b[0m\n\u001b[1;32m    767\u001b[0m \u001b[38;5;28;01mdef\u001b[39;00m \u001b[38;5;21mget\u001b[39m(\u001b[38;5;28mself\u001b[39m, timeout\u001b[38;5;241m=\u001b[39m\u001b[38;5;28;01mNone\u001b[39;00m):\n\u001b[0;32m--> 768\u001b[0m     \u001b[38;5;28;43mself\u001b[39;49m\u001b[38;5;241;43m.\u001b[39;49m\u001b[43mwait\u001b[49m\u001b[43m(\u001b[49m\u001b[43mtimeout\u001b[49m\u001b[43m)\u001b[49m\n\u001b[1;32m    769\u001b[0m     \u001b[38;5;28;01mif\u001b[39;00m \u001b[38;5;129;01mnot\u001b[39;00m \u001b[38;5;28mself\u001b[39m\u001b[38;5;241m.\u001b[39mready():\n\u001b[1;32m    770\u001b[0m         \u001b[38;5;28;01mraise\u001b[39;00m \u001b[38;5;167;01mTimeoutError\u001b[39;00m\n",
      "File \u001b[0;32m~/miniforge3/lib/python3.10/multiprocessing/pool.py:765\u001b[0m, in \u001b[0;36mApplyResult.wait\u001b[0;34m(self, timeout)\u001b[0m\n\u001b[1;32m    764\u001b[0m \u001b[38;5;28;01mdef\u001b[39;00m \u001b[38;5;21mwait\u001b[39m(\u001b[38;5;28mself\u001b[39m, timeout\u001b[38;5;241m=\u001b[39m\u001b[38;5;28;01mNone\u001b[39;00m):\n\u001b[0;32m--> 765\u001b[0m     \u001b[38;5;28;43mself\u001b[39;49m\u001b[38;5;241;43m.\u001b[39;49m\u001b[43m_event\u001b[49m\u001b[38;5;241;43m.\u001b[39;49m\u001b[43mwait\u001b[49m\u001b[43m(\u001b[49m\u001b[43mtimeout\u001b[49m\u001b[43m)\u001b[49m\n",
      "File \u001b[0;32m~/miniforge3/lib/python3.10/threading.py:607\u001b[0m, in \u001b[0;36mEvent.wait\u001b[0;34m(self, timeout)\u001b[0m\n\u001b[1;32m    605\u001b[0m signaled \u001b[38;5;241m=\u001b[39m \u001b[38;5;28mself\u001b[39m\u001b[38;5;241m.\u001b[39m_flag\n\u001b[1;32m    606\u001b[0m \u001b[38;5;28;01mif\u001b[39;00m \u001b[38;5;129;01mnot\u001b[39;00m signaled:\n\u001b[0;32m--> 607\u001b[0m     signaled \u001b[38;5;241m=\u001b[39m \u001b[38;5;28;43mself\u001b[39;49m\u001b[38;5;241;43m.\u001b[39;49m\u001b[43m_cond\u001b[49m\u001b[38;5;241;43m.\u001b[39;49m\u001b[43mwait\u001b[49m\u001b[43m(\u001b[49m\u001b[43mtimeout\u001b[49m\u001b[43m)\u001b[49m\n\u001b[1;32m    608\u001b[0m \u001b[38;5;28;01mreturn\u001b[39;00m signaled\n",
      "File \u001b[0;32m~/miniforge3/lib/python3.10/threading.py:320\u001b[0m, in \u001b[0;36mCondition.wait\u001b[0;34m(self, timeout)\u001b[0m\n\u001b[1;32m    318\u001b[0m \u001b[38;5;28;01mtry\u001b[39;00m:    \u001b[38;5;66;03m# restore state no matter what (e.g., KeyboardInterrupt)\u001b[39;00m\n\u001b[1;32m    319\u001b[0m     \u001b[38;5;28;01mif\u001b[39;00m timeout \u001b[38;5;129;01mis\u001b[39;00m \u001b[38;5;28;01mNone\u001b[39;00m:\n\u001b[0;32m--> 320\u001b[0m         \u001b[43mwaiter\u001b[49m\u001b[38;5;241;43m.\u001b[39;49m\u001b[43macquire\u001b[49m\u001b[43m(\u001b[49m\u001b[43m)\u001b[49m\n\u001b[1;32m    321\u001b[0m         gotit \u001b[38;5;241m=\u001b[39m \u001b[38;5;28;01mTrue\u001b[39;00m\n\u001b[1;32m    322\u001b[0m     \u001b[38;5;28;01melse\u001b[39;00m:\n",
      "\u001b[0;31mKeyboardInterrupt\u001b[0m: "
     ]
    }
   ],
   "source": [
    "%%time\n",
    "##WHOLE YEARLas Vegas = ee.Geometry.Point([-115.17, 36.11])\n",
    "y=\"2011\" #CHANGE\n",
    "y2=\"2012\" #CHANGE\n",
    "city=\"LasVegas\" #CHANGE\n",
    "citypt = ee.Geometry.Point([-115.17, 36.11]) #CHANGE\n",
    "\n",
    "#CHANGE as needed\n",
    "# Datesy=[y+\"-01-01\", y+\"-02-01\", y+\"-03-01\", y+\"-04-01\", y+\"-05-01\", y+\"-06-01\", y+\"-07-01\",y+\"-08-01\", y+\"-09-01\", y+\"-10-01\", #CHANGE\n",
    "#         y+\"-11-01\", y+\"-12-01\", y2+\"-01-01\"]#y+\"-01-01\", y+\"-02-01\", y+\"-03-01\", y+\"-04-01\", y+\"-05-01\", y+\"-06-01\", y+\"-07-01\",\n",
    "# a=1\n",
    "# for i in range(12):#range should be 1 less than no. of datesy\n",
    "era_collection = era.filterDate(y+\"-01-01\", y2+\"-01-01\")\n",
    "#era_collection = era.filterDate(y+\"-01-01\", y2+\"-01-01\")\n",
    "#Indianapolis_pt = ee.Geometry.Point([-86.15,39.76])\n",
    "#closest in ERA5 to indianapolis coordiantes: 39.7684, long: 86.1581W or -86.1581 or 266.1581\n",
    "crs = \"EPSG:4326\"\n",
    "# Spatial resolution in CRS units (meters)\n",
    "scale = 11_132\n",
    "\n",
    "InptEra_xarray = era_collection.wx.to_xarray(max_attempts=10, scale=scale, crs=crs, region=citypt) #CHANGE\n",
    "time.sleep(4)\n",
    "dask_InptEra = InptEra_xarray.to_dask_dataframe()\n",
    "time.sleep(2)\n",
    "\n",
    "parquet_dask_InptEra_file = dask_InptEra.to_parquet('/Users/sn/Documents/GEE/'+city+'Pt12Feat_'+y+\"-01-01_to_\"+y2+\"-01-01\"+'.pq', compression='gzip')\n",
    "time.sleep(1)\n",
    "print(\"yr completed: \", y)\n",
    "  #a=a+1"
   ]
  },
  {
   "cell_type": "code",
   "execution_count": 6,
   "id": "62db85b8",
   "metadata": {},
   "outputs": [
    {
     "name": "stdout",
     "output_type": "stream",
     "text": [
      "12\n",
      "12\n",
      "12\n",
      "12\n",
      "12\n",
      "12\n",
      "12\n",
      "12\n",
      "12\n",
      "12\n",
      "12\n",
      "11\n"
     ]
    },
    {
     "data": {
      "text/plain": [
       "(96432, 15)"
      ]
     },
     "execution_count": 6,
     "metadata": {},
     "output_type": "execute_result"
    }
   ],
   "source": [
    "import pandas as pd\n",
    "\n",
    "yrs=[\"2010\", \"2011\", \"2012\", \"2013\", \"2014\", \"2015\", \"2016\", \"2017\", \"2018\", \"2019\", \"2020\"]# \n",
    "#CHANGE as needed\n",
    "\n",
    "yrlist=[]\n",
    "city = \"SpokaneWA\"  #CHANGE\n",
    "for i in range(11):#CHANGE to 1 less than yrs\n",
    "    Datesy=[yrs[i]+\"-01-01\", yrs[i]+\"-02-01\", yrs[i]+\"-03-01\", yrs[i]+\"-04-01\", yrs[i]+\"-05-01\", yrs[i]+\"-06-01\", yrs[i]+\"-07-01\",yrs[i]+\"-08-01\", yrs[i]+\"-09-01\", yrs[i]+\"-10-01\", #CHANGE\n",
    "        yrs[i]+\"-11-01\", yrs[i]+\"-12-01\"]#y+\"-01-01\", y+\"-02-01\", y+\"-03-01\", y+\"-04-01\", y+\"-05-01\", y+\"-06-01\", y+\"-07-01\",, yrs[i+1]+\"-01-01\"\n",
    "    molist=[]\n",
    "    for d in Datesy:\n",
    "        monthdf = pd.read_parquet('/Users/sn/Documents/GEE/'+city+'Pt12Feat_'+d+'.pq', engine ='pyarrow')\n",
    "        molist.append(monthdf)\n",
    "    print(len(molist))\n",
    "    yrdf=pd.concat(molist, axis =0)\n",
    "    yrlist.append(yrdf)\n",
    "print(len(yrlist))\n",
    "yr11df = pd.concat(yrlist, axis =0)\n",
    "        \n",
    "yr11df.shape   #should be eleven \"12\" and one \"11\"#(96432, 12)for Indpt (96432, 15) for dallas , lasvegas and Portland"
   ]
  },
  {
   "cell_type": "code",
   "execution_count": 7,
   "id": "65b84780",
   "metadata": {},
   "outputs": [
    {
     "name": "stdout",
     "output_type": "stream",
     "text": [
      "number of duplicate rows:  (0, 15)\n"
     ]
    }
   ],
   "source": [
    "duplicate_rows_df = yr11df[yr11df.duplicated()]\n",
    "print(\"number of duplicate rows: \", duplicate_rows_df.shape)#should be (0, 15)"
   ]
  },
  {
   "cell_type": "code",
   "execution_count": 8,
   "id": "895894a6",
   "metadata": {},
   "outputs": [],
   "source": [
    "yr11df.to_parquet('/Users/sn/Documents/GEE/'+city+'Pt12Feat_2010-2020.pq', compression ='gzip')"
   ]
  },
  {
   "cell_type": "code",
   "execution_count": null,
   "id": "568adc2d",
   "metadata": {},
   "outputs": [],
   "source": []
  },
  {
   "cell_type": "code",
   "execution_count": 6,
   "id": "8827bae3",
   "metadata": {},
   "outputs": [
    {
     "data": {
      "text/plain": [
       "(96432, 15)"
      ]
     },
     "execution_count": 6,
     "metadata": {},
     "output_type": "execute_result"
    }
   ],
   "source": [
    "import pandas as pd\n",
    "dallas11yr =pd.read_parquet(\"/Users/sn/Documents/GEE/DallasPt12Feat_2010-2020.pq\", engine=\"pyarrow\")\n",
    "dallas11yr.shape"
   ]
  },
  {
   "cell_type": "code",
   "execution_count": 9,
   "id": "2f34afb6",
   "metadata": {},
   "outputs": [
    {
     "name": "stdout",
     "output_type": "stream",
     "text": [
      "12\n"
     ]
    },
    {
     "data": {
      "text/plain": [
       "(8760, 15)"
      ]
     },
     "execution_count": 9,
     "metadata": {},
     "output_type": "execute_result"
    }
   ],
   "source": [
    "#validation data JUST CHANGE CITY\n",
    "import pandas as pd\n",
    "yrs=\"2021\"# \n",
    "#CHANGE as needed\n",
    "\n",
    "#yrlist=[]\n",
    "city = \"SpokaneWA\"  #CHANGE\n",
    "#for i in range(11):#CHANGE to 1 less than yrs\n",
    "Datesy=[yrs+\"-01-01\", yrs+\"-02-01\", yrs+\"-03-01\", yrs+\"-04-01\", yrs+\"-05-01\", yrs+\"-06-01\", yrs+\"-07-01\",yrs+\"-08-01\", yrs+\"-09-01\", yrs+\"-10-01\", #CHANGE\n",
    "        yrs+\"-11-01\", yrs+\"-12-01\"]#y+\"-01-01\", y+\"-02-01\", y+\"-03-01\", y+\"-04-01\", y+\"-05-01\", y+\"-06-01\", y+\"-07-01\",, yrs[i+1]+\"-01-01\"\n",
    "molist=[]\n",
    "for d in Datesy:\n",
    "        monthdf = pd.read_parquet('/Users/sn/Documents/GEE/'+city+'Pt12Feat_'+d+'.pq', engine ='pyarrow')\n",
    "        molist.append(monthdf)\n",
    "print(len(molist))\n",
    "yrdf=pd.concat(molist, axis =0)\n",
    "# yrlist.append(yrdf)\n",
    "# print(len(yrlist))\n",
    "#yr11df = pd.concat(yrlist, axis =0)\n",
    "        \n",
    "yrdf.shape \n",
    "#(8760, 15)\n"
   ]
  },
  {
   "cell_type": "code",
   "execution_count": 10,
   "id": "73c6d857",
   "metadata": {},
   "outputs": [
    {
     "name": "stdout",
     "output_type": "stream",
     "text": [
      "number of duplicate rows:  (0, 15)\n"
     ]
    }
   ],
   "source": [
    "duplicate_rows_df = yrdf[yrdf.duplicated()]\n",
    "print(\"number of duplicate rows: \", duplicate_rows_df.shape)"
   ]
  },
  {
   "cell_type": "code",
   "execution_count": 11,
   "id": "4c9085aa",
   "metadata": {},
   "outputs": [],
   "source": [
    "yrdf.to_parquet('/Users/sn/Documents/GEE/'+city+'Pt12Feat_2021VALID.pq', compression ='gzip')"
   ]
  },
  {
   "cell_type": "code",
   "execution_count": 12,
   "id": "6182c9d3",
   "metadata": {},
   "outputs": [
    {
     "name": "stdout",
     "output_type": "stream",
     "text": [
      "6\n"
     ]
    },
    {
     "data": {
      "text/plain": [
       "(4344, 15)"
      ]
     },
     "execution_count": 12,
     "metadata": {},
     "output_type": "execute_result"
    }
   ],
   "source": [
    "#TESTING DATA JUST CHANGE CITY\n",
    "\n",
    "yrs=\"2022\"# \n",
    "#CHANGE as needed\n",
    "\n",
    "#yrlist=[]\n",
    "city = \"SpokaneWA\"  #CHANGE\n",
    "#for i in range(11):#CHANGE to 1 less than yrs\n",
    "Datesy=[yrs+\"-01-01\", yrs+\"-02-01\", yrs+\"-03-01\", yrs+\"-04-01\", yrs+\"-05-01\", yrs+\"-06-01\"]#y+\"-01-01\", y+\"-02-01\", y+\"-03-01\", y+\"-04-01\", y+\"-05-01\", y+\"-06-01\", y+\"-07-01\",, yrs[i+1]+\"-01-01\"\n",
    "molist=[]\n",
    "for d in Datesy:\n",
    "        monthdf = pd.read_parquet('/Users/sn/Documents/GEE/'+city+'Pt12Feat_'+d+'.pq', engine ='pyarrow')\n",
    "        molist.append(monthdf)\n",
    "print(len(molist))\n",
    "yrdf=pd.concat(molist, axis =0)\n",
    "# yrlist.append(yrdf)\n",
    "# print(len(yrlist))\n",
    "#yr11df = pd.concat(yrlist, axis =0)\n",
    "        \n",
    "yrdf.shape #(4344, 15)"
   ]
  },
  {
   "cell_type": "code",
   "execution_count": 13,
   "id": "1f46ffea",
   "metadata": {},
   "outputs": [],
   "source": [
    "yrdf.to_parquet('/Users/sn/Documents/GEE/'+city+'Pt12Feat_2022HALFTEST.pq', compression ='gzip')"
   ]
  },
  {
   "cell_type": "code",
   "execution_count": null,
   "id": "784781de",
   "metadata": {},
   "outputs": [],
   "source": []
  }
 ],
 "metadata": {
  "kernelspec": {
   "display_name": "Python 3 (ipykernel)",
   "language": "python",
   "name": "python3"
  },
  "language_info": {
   "codemirror_mode": {
    "name": "ipython",
    "version": 3
   },
   "file_extension": ".py",
   "mimetype": "text/x-python",
   "name": "python",
   "nbconvert_exporter": "python",
   "pygments_lexer": "ipython3",
   "version": "3.10.6"
  }
 },
 "nbformat": 4,
 "nbformat_minor": 5
}
